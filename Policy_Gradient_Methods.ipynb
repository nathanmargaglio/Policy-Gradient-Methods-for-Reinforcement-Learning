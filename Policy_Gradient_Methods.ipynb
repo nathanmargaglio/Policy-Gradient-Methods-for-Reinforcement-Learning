{
  "cells": [
    {
      "cell_type": "markdown",
      "metadata": {
        "id": "K1IWFgARxLmA"
      },
      "source": [
        "# Policy Gradient Methods for Reinforcement Learning with Function Approximation"
      ]
    },
    {
      "cell_type": "code",
      "execution_count": 1,
      "metadata": {
        "id": "Zv3q8asFxLmB",
        "outputId": "3afbfeff-a699-4176-bc99-189483d39369",
        "colab": {
          "base_uri": "https://localhost:8080/",
          "height": 17
        }
      },
      "outputs": [
        {
          "output_type": "display_data",
          "data": {
            "text/plain": [
              "<IPython.core.display.HTML object>"
            ],
            "text/html": [
              "<script type=\"text/javascript\" async src=\"https://cdnjs.cloudflare.com/ajax/libs/mathjax/2.7.1/MathJax.js?config=TeX-MML-AM_SVG\"></script>"
            ]
          },
          "metadata": {}
        }
      ],
      "source": [
        "import numpy as np\n",
        "\n",
        "# These dependencies are used for visualizations/interactions only\n",
        "import ipywidgets as widgets\n",
        "import plotly.graph_objects as go\n",
        "import plotly.express as px\n",
        "\n",
        "# In some environments, we need to load MathJax to render LaTeX correctly\n",
        "from IPython.display import display, HTML\n",
        "display(HTML(\n",
        "    '<script type=\"text/javascript\" async src=\"https://cdnjs.cloudflare.com/ajax/libs/mathjax/2.7.1/MathJax.js?config=TeX-MML-AM_SVG\"></script>'\n",
        "))\n",
        "\n",
        "# In Google Colab, we need to run this for widgets to work\n",
        "try:\n",
        "    from google.colab import output\n",
        "    output.enable_custom_widget_manager()\n",
        "except:\n",
        "    pass"
      ]
    },
    {
      "cell_type": "markdown",
      "metadata": {
        "id": "GWQ34CiUxLmC"
      },
      "source": [
        "# Introduction\n",
        "\n",
        "- For the decade preceding this paper (and still for some time after), the *value-based* approach dominated reinforcement learning.\n",
        "- This approach worked by estimating a value function and following a \"greedy\" policy, which is selecting an action leading to the highest possible reward\n",
        "- Value-based methods have limitations, though:\n",
        "    - It is oriented towards deterministic policies, whereas the optimal policy is often stochastic\n",
        "    - An arbitrarily small change in the estimated value of an action can cause it to be, or not be selected, causing issues with establishing convergence assurances  \n",
        "- Examples of such methods include Q-learning, Sarsa, and dynamic programming methods.\n",
        "\n",
        "In this paper, the authors explore an alternative approach to function approximation in RL."
      ]
    },
    {
      "cell_type": "markdown",
      "metadata": {
        "id": "gFeGgxUWxLmC"
      },
      "source": [
        "# Policy Gradient Approach\n",
        "\n",
        "- Rather than approximate a value function and using that to compute a deterministic policy, we approximate a stochastic policy directly\n",
        "- The policy can be represented as a neural network whose input is a representation of the state, whose output is action selection probabilities, and whose weights are policy parameters\n",
        "\n",
        "Let $\\theta$ denote the vector of policy parameters and $\\rho$ the performance of the corresponding policy (e.g., the average reward per step).  Then, in the *policy gradient* approach, the policy parameters are updated approximately proportional to the gradient:\n",
        "\n",
        "$$\\nabla\\theta \\approx \\alpha\\frac{\\partial\\rho}{\\partial\\theta}\\tag{1}$$\n",
        "\n",
        "where $\\alpha$ is a positive-definite step size.  If this can be achieved, then $\\theta$ can usually be assured to converge to a locally optimal policy in the performance measure $\\rho$."
      ]
    },
    {
      "cell_type": "markdown",
      "metadata": {
        "id": "5QuyGOVMxLmC"
      },
      "source": [
        "## Markov Decision Process\n",
        "\n",
        "- state, action, and reward at each time $t \\in \\{0, 1, 2, ...\\}$ are denoted $s_t \\in S$, $a_t \\in A$, and $r_t \\in \\mathbb{R}$\n",
        "- the environment's dynamics are characterized by state transition probabilities, $P^a_{ss'} = Pr\\{ s_{t+1} = s' \\mid s_t = s, a_t = a\\}$ and expected rewards $R^a_s = \\mathbb{E}\\{r_{t+1} \\mid s_t = s, a_t = a\\}, \\forall s, s' \\in S, a\\in A$\n",
        "- the agent's decision making procedure is characterized by a policy, $\\pi(s,a,\\theta) = Pr\\{a_t=a \\mid s_t=s,\\theta\\}, \\forall s\\in S, a\\in A$, where $\\theta \\in \\mathbb{R}^l$, for $l << \\left| S \\right|$, is a parameter vector.  We'll often just write $\\pi(s,a,\\theta)$ as $\\pi(s,a)$.\n",
        "- we assume $\\pi$ is differentiable with respect to its parameter, i.e., that $\\frac{\\partial\\pi(s,a)}{\\partial\\theta}$ exists."
      ]
    },
    {
      "cell_type": "markdown",
      "metadata": {
        "id": "anllBCfCxLmD"
      },
      "source": [
        "## Start-State Formulation\n",
        "\n",
        "$$ \\rho(\\pi) = \\mathbb{E}\\{ \\sum_{t=1}^{\\infty} \\gamma^{t-1}r_t \\mid s_0,\\pi\\} $$\n",
        "\n",
        "$$ Q^\\pi(s,a) = \\mathbb{E}\\{ \\sum_{k=1}^{\\infty} \\gamma^{k-1}r_{t+k} \\mid s_t = s, a_t = a, \\pi \\} $$\n",
        "\n",
        "where $\\gamma \\in [0,1]$ is a discount rate.\n",
        "\n",
        "We define $d^\\pi (s)$ as a discounted weighting of states encountered starting at $s_0$ and the following $\\pi$:\n",
        "\n",
        "$$ d^\\pi(s) = \\sum_{t=0}^{\\infty} \\gamma^t Pr\\{s_t=s \\mid s_0,\\pi\\}$$"
      ]
    },
    {
      "cell_type": "markdown",
      "metadata": {
        "id": "p_h35-3pxLmD"
      },
      "source": [
        "#### **Theorem 1 (Policy Gradient)**\n",
        "\n",
        "For any MDP,\n",
        "\n",
        "$$\n",
        "\\frac{\\partial \\rho}{\\partial \\theta}\n",
        "= \\sum_s d^\\pi (s)\n",
        "\\sum_a \\frac{\\partial \\pi(s,a)}{\\partial \\theta} Q^\\pi(s,a)\n",
        "\\tag{2}\n",
        "$$\n",
        "\n",
        "In words, this says the gradient of $\\rho$, the performance of our policy, with respect to $\\theta$, the parameters of our policy, is the sum of products of the gradient of our policy, $\\pi$, with respect to $\\theta$ and $Q^\\pi$, our value at the given state, for every possible action, multiplied by a weighing $d^\\pi$ summed over every possible state.\n",
        "\n",
        "Basically, if we can approximate $Q^\\pi$ given such a policy $\\pi$, then we can calculate the gradient of $\\rho$ to maximize the performance of our policy."
      ]
    },
    {
      "cell_type": "markdown",
      "metadata": {
        "id": "bMz1x6gOxLmD"
      },
      "source": [
        "## Policy Gradient with Approximation\n",
        "\n",
        "If we can approximate $Q^\\pi$ by a learned function, we can use it in place of $Q^pi$ in the above theorem and still point roughly in the direction of the gradient.\n",
        "\n",
        "Let $f_w : S \\times A \\rightarrow \\mathbb{R}$ be our approximation to $Q^\\pi$ with parameter $w$.  It is natural to learn $f_w$ by following $\\pi$ and updating $w$ by a rule such as\n",
        "\n",
        "$$ \\Delta w_t\n",
        "\\; \\propto \\;\n",
        "\\frac{\\partial}{\\partial w}[\\hat{Q}^\\pi(s_t, a_t) - f_w (s_t, a_t)]^2\n",
        "\\; \\propto \\;\n",
        "[ \\hat{Q}^\\pi (s_t, a_t) - f_w(s_t, a_t)] \\frac{\\partial f_w (s_t, a_t)}{\\partial w} $$\n",
        "\n",
        "where $\\hat{Q}^\\pi$ is some unbiased estimator of $Q^\\pi(s_t,a_t)$, perhaps $R_t$\n",
        "\n",
        "When such a process has converged to a local optimum, then\n",
        "\n",
        "$$\n",
        "\\sum_s d^\\pi(s) \\sum_a \\pi(s,a)[Q^\\pi (s,a) - f_w(s,a)] \\frac{\\partial f_w(s,a)}{\\partial w} = 0\n",
        "\\tag{3}\n",
        "$$"
      ]
    },
    {
      "cell_type": "markdown",
      "metadata": {
        "id": "LGONbComxLmD"
      },
      "source": [
        "#### **Theorem 2 (Policy Gradient with Function Approximation)**\n",
        "\n",
        "If $f_w$ satisfies (3) and is compatible with the policy parameterization in the sense that\n",
        "\n",
        "$$\n",
        "\\frac{\\partial f_w (s,a)}{\\partial w} = \\frac{\\partial \\pi (s,a)}{\\partial \\theta} \\frac{1}{\\pi(s,a)}\n",
        "\\tag{3}\n",
        "$$\n",
        "\n",
        "then\n",
        "\n",
        "$$\n",
        "\\frac{\\partial \\rho}{\\partial \\theta} = \\sum_s d^\\pi(s) \\sum_a \\frac{\\partial \\pi (s,a)}{\\partial \\theta} f_w(s,a)\n",
        "\\tag{5}\n",
        "$$\n",
        "\n",
        "This is equivalent to our first theorem, except in place of our state-value function $Q^\\pi$ we have our learned approximation $f_w$."
      ]
    },
    {
      "cell_type": "markdown",
      "metadata": {
        "id": "ZjS9baWPxLmD"
      },
      "source": [
        "## Application to Deriving Algorithms\n",
        "\n",
        "Given a policy parameterization, Theorem 2 can be used to derive an appropriate form of the value-function parameterization.  Consider a policy that is a Gibbs distribution in a linear combination of features, i.e., softmax:\n",
        "\n",
        "$$\n",
        "\\pi(s,a) = \\frac{e^{\\theta^T\\phi_{sa}}}{\\sum_b e^{\\theta^T\\phi_{sb}}},\n",
        "\\forall s \\in S, a \\in A\n",
        "$$\n",
        "\n",
        "where each $\\phi_{sa}$ is an $l$-dimensional feature vector characterizing state-action pair $s,a$.  Meeting the compatibility condition (4) requires that\n",
        "\n",
        "$$\n",
        "\\frac{\\partial f_w(s,a)}{\\partial w} = \\frac{\\partial \\pi (s,a)}{\\partial \\theta} \\frac{1}{\\pi(s,a)} = \\phi_{sa} - \\sum_b \\pi(s,b)\\phi_{sb}\n",
        "$$\n",
        "\n",
        "so that the natural parameterization of $f_w$ is\n",
        "\n",
        "$$\n",
        "f_w(s,a) = w^T[\\phi_{sa} - \\sum_b \\pi(s,b) \\phi_{sb} ]\n",
        "$$"
      ]
    },
    {
      "cell_type": "code",
      "execution_count": 2,
      "metadata": {
        "id": "6ld2-e5VxLmD",
        "outputId": "7c6860d6-d750-4da4-c085-b560946c2d1b",
        "colab": {
          "base_uri": "https://localhost:8080/",
          "height": 611
        }
      },
      "outputs": [
        {
          "output_type": "stream",
          "name": "stdout",
          "text": [
            "[0.35930847]\n",
            "[0.33107924]\n",
            "[0.30961229]\n",
            "Sum: 1.0\n"
          ]
        },
        {
          "output_type": "display_data",
          "data": {
            "text/html": [
              "<html>\n",
              "<head><meta charset=\"utf-8\" /></head>\n",
              "<body>\n",
              "    <div>            <script src=\"https://cdnjs.cloudflare.com/ajax/libs/mathjax/2.7.5/MathJax.js?config=TeX-AMS-MML_SVG\"></script><script type=\"text/javascript\">if (window.MathJax && window.MathJax.Hub && window.MathJax.Hub.Config) {window.MathJax.Hub.Config({SVG: {font: \"STIX-Web\"}});}</script>                <script type=\"text/javascript\">window.PlotlyConfig = {MathJaxConfig: 'local'};</script>\n",
              "        <script charset=\"utf-8\" src=\"https://cdn.plot.ly/plotly-2.24.1.min.js\"></script>                <div id=\"5af918cd-1b05-4067-8ddf-a81505ac92c2\" class=\"plotly-graph-div\" style=\"height:525px; width:100%;\"></div>            <script type=\"text/javascript\">                                    window.PLOTLYENV=window.PLOTLYENV || {};                                    if (document.getElementById(\"5af918cd-1b05-4067-8ddf-a81505ac92c2\")) {                    Plotly.newPlot(                        \"5af918cd-1b05-4067-8ddf-a81505ac92c2\",                        [{\"x\":[\"$\\\\pi(s_0, a_0)$\",\"$\\\\pi(s_0, a_1)$\",\"$\\\\pi(s_0, a_2)$\"],\"y\":[0.35930847072030764,0.3310792380434274,0.309612291236265],\"type\":\"bar\",\"uid\":\"224d63e3-67ff-4eaf-8cc8-df8f1ff8057a\"}],                        {\"template\":{\"data\":{\"pie\":[{\"automargin\":true,\"type\":\"pie\"}],\"scatter3d\":[{\"line\":{\"width\":3},\"marker\":{\"size\":9},\"type\":\"scatter3d\"}],\"scattergeo\":[{\"line\":{\"width\":3},\"marker\":{\"size\":9},\"type\":\"scattergeo\"}],\"scattergl\":[{\"line\":{\"width\":3},\"marker\":{\"size\":9},\"type\":\"scattergl\"}],\"scatterpolargl\":[{\"line\":{\"width\":3},\"marker\":{\"size\":9},\"type\":\"scatterpolargl\"}],\"scatterpolar\":[{\"line\":{\"width\":3},\"marker\":{\"size\":9},\"type\":\"scatterpolar\"}],\"scatter\":[{\"line\":{\"width\":3},\"marker\":{\"size\":9},\"type\":\"scatter\"}],\"scatterternary\":[{\"line\":{\"width\":3},\"marker\":{\"size\":9},\"type\":\"scatterternary\"}],\"table\":[{\"cells\":{\"height\":30},\"header\":{\"height\":36},\"type\":\"table\"}]},\"layout\":{\"font\":{\"size\":18},\"xaxis\":{\"title\":{\"standoff\":15}},\"yaxis\":{\"title\":{\"standoff\":15}}}},\"title\":{\"text\":\"$$\\\\pi(s_0, a)$$\"},\"yaxis\":{\"range\":[0,1]}},                        {\"responsive\": true}                    ).then(function(){\n",
              "                            \n",
              "var gd = document.getElementById('5af918cd-1b05-4067-8ddf-a81505ac92c2');\n",
              "var x = new MutationObserver(function (mutations, observer) {{\n",
              "        var display = window.getComputedStyle(gd).display;\n",
              "        if (!display || display === 'none') {{\n",
              "            console.log([gd, 'removed!']);\n",
              "            Plotly.purge(gd);\n",
              "            observer.disconnect();\n",
              "        }}\n",
              "}});\n",
              "\n",
              "// Listen for the removal of the full notebook cells\n",
              "var notebookContainer = gd.closest('#notebook-container');\n",
              "if (notebookContainer) {{\n",
              "    x.observe(notebookContainer, {childList: true});\n",
              "}}\n",
              "\n",
              "// Listen for the clearing of the current output cell\n",
              "var outputEl = gd.closest('.output');\n",
              "if (outputEl) {{\n",
              "    x.observe(outputEl, {childList: true});\n",
              "}}\n",
              "\n",
              "                        })                };                            </script>        </div>\n",
              "</body>\n",
              "</html>"
            ]
          },
          "metadata": {}
        }
      ],
      "source": [
        "theta = np.random.normal(0.5, 0.1, (6, 1))\n",
        "phi = lambda s, a: np.concatenate((s, a))\n",
        "\n",
        "states = [\n",
        "    [1, 0, 0],\n",
        "    [0, 1, 0],\n",
        "    [0, 0, 1]\n",
        "]\n",
        "\n",
        "actions = [\n",
        "    [1, 0, 0],\n",
        "    [0, 1, 0],\n",
        "    [0, 0, 1]\n",
        "]\n",
        "\n",
        "def pi(s, a):\n",
        "    num = np.exp(np.dot(theta.T, phi(s, a)))\n",
        "    den = np.sum([np.exp(np.dot(theta.T, phi(s, b))) for b in actions])\n",
        "    return num/den\n",
        "\n",
        "results = []\n",
        "for a in actions:\n",
        "    result = pi(states[0], a)\n",
        "    print(result)\n",
        "    results.append(result)\n",
        "\n",
        "print('Sum:', np.sum(results))\n",
        "\n",
        "data = go.Bar(\n",
        "    x=[f'$\\pi(s_0, a_{i})$' for i, a in enumerate(actions)],\n",
        "    y=np.array(results).squeeze()\n",
        ")\n",
        "\n",
        "layout = go.Layout(\n",
        "    title='$$\\pi(s_0, a)$$',\n",
        "    template='presentation',\n",
        "    yaxis=dict(\n",
        "        range=[0,1]\n",
        "    )\n",
        ")\n",
        "\n",
        "fig = go.FigureWidget(\n",
        "    data=[data],\n",
        "    layout=layout\n",
        ")\n",
        "fig.show()"
      ]
    },
    {
      "cell_type": "code",
      "execution_count": 3,
      "metadata": {
        "id": "SoJSdxl-xLmE",
        "outputId": "bc2396cd-a37b-42ea-b489-e2f2e0fd0b34",
        "colab": {
          "base_uri": "https://localhost:8080/",
          "height": 629
        }
      },
      "outputs": [
        {
          "output_type": "stream",
          "name": "stdout",
          "text": [
            "[0.0264282]\n",
            "[-0.03874858]\n",
            "[0.01076499]\n",
            "Sum: -0.001555386699814587\n",
            "Mean: -0.0005184622332715291\n"
          ]
        },
        {
          "output_type": "display_data",
          "data": {
            "text/html": [
              "<html>\n",
              "<head><meta charset=\"utf-8\" /></head>\n",
              "<body>\n",
              "    <div>            <script src=\"https://cdnjs.cloudflare.com/ajax/libs/mathjax/2.7.5/MathJax.js?config=TeX-AMS-MML_SVG\"></script><script type=\"text/javascript\">if (window.MathJax && window.MathJax.Hub && window.MathJax.Hub.Config) {window.MathJax.Hub.Config({SVG: {font: \"STIX-Web\"}});}</script>                <script type=\"text/javascript\">window.PlotlyConfig = {MathJaxConfig: 'local'};</script>\n",
              "        <script charset=\"utf-8\" src=\"https://cdn.plot.ly/plotly-2.24.1.min.js\"></script>                <div id=\"df7a392c-c345-4cd7-b83d-fca7d424f981\" class=\"plotly-graph-div\" style=\"height:525px; width:100%;\"></div>            <script type=\"text/javascript\">                                    window.PLOTLYENV=window.PLOTLYENV || {};                                    if (document.getElementById(\"df7a392c-c345-4cd7-b83d-fca7d424f981\")) {                    Plotly.newPlot(                        \"df7a392c-c345-4cd7-b83d-fca7d424f981\",                        [{\"x\":[\"$f_w(s_0, a_0)$\",\"$f_w(s_0, a_1)$\",\"$f_w(s_0, a_2)$\"],\"y\":[0.02642819952695441,-0.038748580071299,0.010764993844530002],\"type\":\"bar\",\"uid\":\"a0a7de4f-947c-4e84-9105-772a1aadb46a\"}],                        {\"template\":{\"data\":{\"pie\":[{\"automargin\":true,\"type\":\"pie\"}],\"scatter3d\":[{\"line\":{\"width\":3},\"marker\":{\"size\":9},\"type\":\"scatter3d\"}],\"scattergeo\":[{\"line\":{\"width\":3},\"marker\":{\"size\":9},\"type\":\"scattergeo\"}],\"scattergl\":[{\"line\":{\"width\":3},\"marker\":{\"size\":9},\"type\":\"scattergl\"}],\"scatterpolargl\":[{\"line\":{\"width\":3},\"marker\":{\"size\":9},\"type\":\"scatterpolargl\"}],\"scatterpolar\":[{\"line\":{\"width\":3},\"marker\":{\"size\":9},\"type\":\"scatterpolar\"}],\"scatter\":[{\"line\":{\"width\":3},\"marker\":{\"size\":9},\"type\":\"scatter\"}],\"scatterternary\":[{\"line\":{\"width\":3},\"marker\":{\"size\":9},\"type\":\"scatterternary\"}],\"table\":[{\"cells\":{\"height\":30},\"header\":{\"height\":36},\"type\":\"table\"}]},\"layout\":{\"font\":{\"size\":18},\"xaxis\":{\"title\":{\"standoff\":15}},\"yaxis\":{\"title\":{\"standoff\":15}}}},\"title\":{\"text\":\"$$f_w(s_0, a)$$\"}},                        {\"responsive\": true}                    ).then(function(){\n",
              "                            \n",
              "var gd = document.getElementById('df7a392c-c345-4cd7-b83d-fca7d424f981');\n",
              "var x = new MutationObserver(function (mutations, observer) {{\n",
              "        var display = window.getComputedStyle(gd).display;\n",
              "        if (!display || display === 'none') {{\n",
              "            console.log([gd, 'removed!']);\n",
              "            Plotly.purge(gd);\n",
              "            observer.disconnect();\n",
              "        }}\n",
              "}});\n",
              "\n",
              "// Listen for the removal of the full notebook cells\n",
              "var notebookContainer = gd.closest('#notebook-container');\n",
              "if (notebookContainer) {{\n",
              "    x.observe(notebookContainer, {childList: true});\n",
              "}}\n",
              "\n",
              "// Listen for the clearing of the current output cell\n",
              "var outputEl = gd.closest('.output');\n",
              "if (outputEl) {{\n",
              "    x.observe(outputEl, {childList: true});\n",
              "}}\n",
              "\n",
              "                        })                };                            </script>        </div>\n",
              "</body>\n",
              "</html>"
            ]
          },
          "metadata": {}
        }
      ],
      "source": [
        "w = np.random.normal(0.5, 0.1, (6, 1))\n",
        "\n",
        "def f(s, a):\n",
        "    return np.dot(w.T, phi(s, a)) - np.dot(w.T, np.sum([ pi(s, b) * phi(s, b) for b in actions], axis=0))\n",
        "\n",
        "results = []\n",
        "for a in actions:\n",
        "    result = f(states[0], a)\n",
        "    print(result)\n",
        "    results.append(result)\n",
        "\n",
        "print('Sum:', np.sum(results))\n",
        "print('Mean:', np.mean(results))\n",
        "\n",
        "data = go.Bar(\n",
        "    x=[f'$f_w(s_0, a_{i})$' for i, a in enumerate(actions)],\n",
        "    y=np.array(results).squeeze()\n",
        ")\n",
        "\n",
        "layout = go.Layout(\n",
        "    title='$$f_w(s_0, a)$$',\n",
        "    template='presentation'\n",
        ")\n",
        "\n",
        "fig = go.FigureWidget(\n",
        "    data=[data],\n",
        "    layout=layout\n",
        ")\n",
        "fig.show()"
      ]
    },
    {
      "cell_type": "markdown",
      "metadata": {
        "id": "76_oWwSKxLmF"
      },
      "source": [
        "## Advantages\n",
        "\n",
        "The above form of $f_w$ requires that it have zero mean for each state: $\\sum_a \\pi(s,a) f_w(s,a) = 0, \\forall s\\in S$.  In this since, it's better to think of $f_w$ as an approximation of the *advantage* function, $A^\\pi (s,a) = Q^\\pi (s,a) - V^\\pi (s)$, rather than of $Q^\\pi$.\n",
        "\n",
        "We can generalize (5) to\n",
        "\n",
        "$$\n",
        "\\frac{\\partial \\rho}{\\partial \\theta} = \\sum_s d^\\pi(s) \\sum_a \\frac{\\partial \\pi (s,a)}{\\partial \\theta} [f_w(s,a) - v(s)]\n",
        "$$\n",
        "\n",
        "where $v: S \\rightarrow \\mathbb{R}$ is an arbitrary function.  The choice of $v$ doesn't affect any of these theorems, but can affect the variance of the gradient estimators.  In practice, $v$ should be set to the best available approximation of $V^\\pi$"
      ]
    },
    {
      "cell_type": "markdown",
      "metadata": {
        "id": "lpX-WDzTxLmF"
      },
      "source": [
        "#### **Theorem 3 (Policy Iteration with Function Approximation)**\n",
        "\n",
        "Let $\\pi$ and $f_w$ be any differentiable function approximators for the policy and value function respectively that satisfy the compatibility condition (4) and for which\n",
        "\n",
        "$$\n",
        "\\max_{\\theta, s, a, i, j} \\left|\\frac{\\partial^2 \\pi(s,a)}{\\partial \\theta_i \\partial \\theta_j} \\right| < B < \\infty\n",
        "$$\n",
        "\n",
        "Let ${\\alpha_k}_{k=0}^{\\infty}$ be any step-size sequence such that $\\lim_{k\\rightarrow\\infty} \\alpha_k = 0$ and $\\sum_k \\alpha_k = \\infty$.  Then, for any MDP with bounded rewards, the sequence $\\{\\rho(\\pi_k)\\}_{k=0}^{\\infty}$, defined by any $\\theta_0, \\pi_k=\\pi(\\dot\\:,\\dot\\:,\\theta_k)$, and\n",
        "\n",
        "\\begin{align}\n",
        "& w_{k\\;} = w \\textrm{ such that } \\sum_s d^{\\pi k}(s) \\sum_a \\pi_k (s,a)[Q^{\\pi_k}(s,a) - f_w(s,a)]\\frac{\\partial f_w(s,a)}{\\partial w} = 0\n",
        "\\\\\n",
        "& \\theta_{k+1} = \\theta_k + \\alpha_k \\sum_s d^{\\pi_k}(s) \\sum_a \\frac{\\partial \\pi_k (s,a)}{\\partial \\theta} f_{w_k} (s,a)\n",
        "\\end{align}\n",
        "\n",
        "converges such that $\\lim_{k\\rightarrow \\infty} \\frac{\\partial \\rho(\\pi_k)}{\\partial\\theta} = 0$"
      ]
    },
    {
      "cell_type": "markdown",
      "metadata": {
        "id": "R9_aKZ3WxLmF"
      },
      "source": [
        "# Experiment"
      ]
    },
    {
      "cell_type": "markdown",
      "metadata": {
        "id": "Hg2GqZ6fxLmF"
      },
      "source": [
        "## Updating $\\theta$ through $\\pi$ and $f_w$"
      ]
    },
    {
      "cell_type": "markdown",
      "metadata": {
        "id": "CWrg9uRSxLmF"
      },
      "source": [
        "We can now test these theorems using code.  At a high level, what we want to accomplish is:\n",
        "- Defining our action space $A$ and state space $S$\n",
        "- Initializing $\\theta$ and $w$\n",
        "- Defining our $\\pi$ and $f_w$ functions\n",
        "- Defining our $\\nabla\\pi$ and $\\nabla f_w$ functions\n",
        "- Defining our training function, which incorporates the update rule for $\\theta$"
      ]
    },
    {
      "cell_type": "markdown",
      "metadata": {
        "id": "H3S4ReBSxLmF"
      },
      "source": [
        "### $A$ and $S$"
      ]
    },
    {
      "cell_type": "markdown",
      "metadata": {
        "id": "EZvnaI28xLmF"
      },
      "source": [
        "First, we need to define our state and action spaces.  In order to easily visualize this procedure, we'll need to keep these spaces simple.  Here, the action space $A$ is discrete and of cardinality 3.  We represent each state as a one-hot encoding.  Similarly, the state space is $S$ is discrete and of cardinality.  We give it a similar treatment."
      ]
    },
    {
      "cell_type": "code",
      "execution_count": null,
      "metadata": {
        "id": "vrJKrPvrxLmG"
      },
      "outputs": [],
      "source": [
        "actions = np.array([\n",
        "    [1, 0, 0],\n",
        "    [0, 1, 0],\n",
        "    [0, 0, 1]\n",
        "])\n",
        "\n",
        "states = np.array([\n",
        "    [1, 0, 0],\n",
        "    [0, 1, 0],\n",
        "    [0, 0, 1]\n",
        "])"
      ]
    },
    {
      "cell_type": "markdown",
      "metadata": {
        "id": "p543OxMwxLmG"
      },
      "source": [
        "### $\\theta$, $w$, and $\\phi$"
      ]
    },
    {
      "cell_type": "markdown",
      "metadata": {
        "id": "iNCR3NGCxLmG"
      },
      "source": [
        "Next, we initialize $\\theta$ and $w$ as arrays of length 6 where each entry is a random value sampled from a normal distribution with mean $0.5$ and variance $0.1$.  We also define $\\phi$, our characterization of our state-action pair.  Here, we simply concatenate the two one-hot encodings for the state and action to form $\\phi$."
      ]
    },
    {
      "cell_type": "code",
      "execution_count": null,
      "metadata": {
        "id": "B-n2Pg5UxLmG"
      },
      "outputs": [],
      "source": [
        "theta = np.random.normal(0.5, 0.1, (len(states) + len(actions), 1))\n",
        "w = np.random.normal(0.5, 0.1, (6, 1))\n",
        "phi = lambda s, a: np.concatenate((s, a))"
      ]
    },
    {
      "cell_type": "markdown",
      "metadata": {
        "id": "KaTUfIY7xLmG"
      },
      "source": [
        "### $\\pi$, $\\nabla \\pi$, $f_w$, and $\\nabla f_w$"
      ]
    },
    {
      "cell_type": "markdown",
      "metadata": {
        "id": "rJ0Mep79xLmG"
      },
      "source": [
        "We next define our policy and value functions, along with their gradient functions."
      ]
    },
    {
      "cell_type": "code",
      "execution_count": null,
      "metadata": {
        "id": "S-5YaroVxLmG"
      },
      "outputs": [],
      "source": [
        "def f(s, a):\n",
        "    result = np.dot(w.T, phi(s, a)) - np.dot(w.T, np.sum([ pi(s, b) * phi(s, b) for b in actions], axis=0))\n",
        "    return result\n",
        "\n",
        "def f_grad(s, a, r):\n",
        "    df = phi(s, a) - np.sum([ pi(s, b) * phi(s, b) for b in actions], axis=0)\n",
        "    result = (r - f(s,a))*df\n",
        "    return result\n",
        "\n",
        "def pi(s, a):\n",
        "    num = np.exp(np.dot(theta.T, phi(s, a)))\n",
        "    den = np.sum([np.exp(np.dot(theta.T, phi(s, b))) for b in actions])\n",
        "    return num/den\n",
        "\n",
        "def pi_grad(s, a):\n",
        "    left = phi(s, a)*pi(s, a)\n",
        "    right = np.exp(np.dot(theta.T, phi(s, a))) * np.sum([ phi(s,b)*np.exp(np.dot(theta.T, phi(s, b))) for b in actions])\n",
        "    diff = left - right\n",
        "    den = (np.sum([ np.exp(np.dot(theta.T, phi(s, b))) for b in actions ]))**2\n",
        "    return diff/den"
      ]
    },
    {
      "cell_type": "markdown",
      "metadata": {
        "id": "bCaHBR2NxLmH"
      },
      "source": [
        "### Training Function\n",
        "\n",
        "Finally, we define our `update` function to facilitate the policy iteration we'll use for experimentation.  We simply calculate the gradient and add it to $\\theta$."
      ]
    },
    {
      "cell_type": "code",
      "execution_count": null,
      "metadata": {
        "id": "s9niV8gFxLmH"
      },
      "outputs": [],
      "source": [
        "def update(action, state, theta):\n",
        "    alpha = 1.\n",
        "    grad = pi_grad(states[state], actions[action]).reshape(theta.shape)\n",
        "    return alpha*grad*f(states[state], actions[action])"
      ]
    },
    {
      "cell_type": "markdown",
      "metadata": {
        "id": "7wHPHg_ZxLmH"
      },
      "source": [
        "(the rest is for visualization only)"
      ]
    },
    {
      "cell_type": "code",
      "execution_count": null,
      "metadata": {
        "id": "Si2kg3F5xLmH",
        "outputId": "bdb565d0-766c-48f6-a584-616e5cad60a8",
        "colab": {
          "base_uri": "https://localhost:8080/",
          "height": 449,
          "referenced_widgets": [
            "1f86373d2ac34b999b9c8b62fa1fa2b8",
            "b5a7a44f3f2348959f7295c63564351a",
            "fa38fa2caa2e444b8d8a48832ebeccd0",
            "5b00335efaa34ce0a78e9876ac0024c3",
            "14120fc6d5dd443eac6d63cbb953e12a",
            "8523aa6f6af14172815ffa677369a385",
            "bb69ebae6aa74376a57a3995c5da3dc8",
            "853dd8b07c5e4c9d9403f229b2e3e34f",
            "751350a99128489bbb557128d45d809c",
            "16b1ec86c91c4f589d62d736ca033381",
            "518cd5364092456899382f00ae2d8c8c",
            "6a1e94d211e74c4abe870667020b4d1f",
            "a2096bc508694258b1caf95a6c197277",
            "9cd7b8767b154fe2b66aab4b7f7a0e4e",
            "f1ea4a65113d4761bd3f3068420927d4",
            "bbf44399592544259a3cb812f990566d",
            "1c865b5fef8f4b97af7c3a31eb1655ff",
            "42a2993f69e34af3bd52c9f93923a7d1",
            "9dcfca3139d246148a0d5f9708820b47"
          ]
        }
      },
      "outputs": [
        {
          "output_type": "display_data",
          "data": {
            "text/plain": [
              "VBox(children=(HBox(children=(FigureWidget({\n",
              "    'data': [{'type': 'bar',\n",
              "              'uid': 'f520e852-2692-…"
            ],
            "application/vnd.jupyter.widget-view+json": {
              "version_major": 2,
              "version_minor": 0,
              "model_id": "1f86373d2ac34b999b9c8b62fa1fa2b8"
            }
          },
          "metadata": {
            "application/vnd.jupyter.widget-view+json": {
              "colab": {
                "custom_widget_manager": {
                  "url": "https://ssl.gstatic.com/colaboratory-static/widgets/colab-cdn-widget-manager/2b70e893a8ba7c0f/manager.min.js"
                }
              }
            }
          }
        }
      ],
      "source": [
        "state = 0\n",
        "\n",
        "# setup plotting\n",
        "\n",
        "layout_params = dict(\n",
        "    title=\"$\\pi(s_0,a)$\",\n",
        "    yaxis=dict(\n",
        "        range=[0,1]\n",
        "    ),\n",
        "    template=\"plotly_dark+presentation\"\n",
        ")\n",
        "layout = go.Layout(**layout_params)\n",
        "\n",
        "data = []\n",
        "data.append(\n",
        "    go.Bar(\n",
        "        x=[f'$\\pi(s_0, a_{i})$' for i in range(len(actions))],\n",
        "        y=np.array([pi(states[state],a) for a in actions]).flatten()\n",
        "    )\n",
        ")\n",
        "\n",
        "fig = go.FigureWidget(data=data, layout=layout)\n",
        "\n",
        "# value function\n",
        "results = []\n",
        "for a in actions:\n",
        "    result = f(states[0], a)\n",
        "    results.append(result)\n",
        "\n",
        "value_data = go.Bar(\n",
        "    x=[f'$f_w(s_0, a_{i})$' for i, a in enumerate(actions)],\n",
        "    y=np.array(results).squeeze()\n",
        ")\n",
        "\n",
        "value_layout = go.Layout(\n",
        "    title='$$f_w(s_0, a)$$',\n",
        "    template='plotly_dark+presentation'\n",
        ")\n",
        "\n",
        "value_widget = go.FigureWidget(data=[value_data], layout=value_layout)\n",
        "\n",
        "out = widgets.Output(layout={'border': '1px solid black'})\n",
        "\n",
        "# interaction\n",
        "\n",
        "state_dropdown = widgets.Dropdown(\n",
        "    options=[f'State {s}' for s in range(3)],\n",
        "    description='State:',\n",
        "    layout=widgets.Layout(\n",
        "        width='25%'\n",
        "    )\n",
        ")\n",
        "\n",
        "def dropdown_change(change):\n",
        "    global state\n",
        "    if change['name'] == 'index':\n",
        "        with out:\n",
        "            state = change['new']\n",
        "\n",
        "state_dropdown.observe(dropdown_change)\n",
        "\n",
        "options_box = widgets.HBox(\n",
        "    [\n",
        "        state_dropdown\n",
        "    ],\n",
        "    layout=widgets.Layout(\n",
        "        width='100%',\n",
        "        justify_content='space-around',\n",
        "        margin='10px 0'\n",
        "    )\n",
        ")\n",
        "\n",
        "verbose = False\n",
        "def train(action):\n",
        "    global theta, fig\n",
        "    iters = 10\n",
        "\n",
        "    for i in range(iters):\n",
        "        theta += update(action, state, theta)\n",
        "\n",
        "    new_y = np.array([pi(states[state], a) for a in actions]).flatten()\n",
        "    fig.data[0]['y'] = new_y\n",
        "\n",
        "    with out:\n",
        "        if verbose:\n",
        "            print(action)\n",
        "\n",
        "buttons = []\n",
        "for i, a in enumerate(actions):\n",
        "    button = widgets.Button(\n",
        "        description=f'a_{i}',\n",
        "        state=i\n",
        "    )\n",
        "    button_function = lambda state: lambda b: train(state)\n",
        "    button.on_click(button_function(i))\n",
        "    buttons.append(button)\n",
        "\n",
        "button_box = widgets.HBox(\n",
        "    buttons,\n",
        "    layout=widgets.Layout(\n",
        "        width='100%',\n",
        "        justify_content='space-around',\n",
        "        margin='10px 0'\n",
        "    )\n",
        ")\n",
        "\n",
        "widgets.VBox([\n",
        "    widgets.HBox(\n",
        "        [fig, value_widget],\n",
        "        layout=widgets.Layout(\n",
        "            width='100%',\n",
        "            justify_content='space-around',\n",
        "            margin='10px 0'\n",
        "        )\n",
        "    ),\n",
        "    button_box,\n",
        "    out\n",
        "])"
      ]
    },
    {
      "cell_type": "markdown",
      "metadata": {
        "id": "UWfo2WVuxLmH"
      },
      "source": [
        "Once the visualization is ran, you should see two bar plots with three buttons labeled \"a_0\", \"a_1\", and \"a_2\" underneath.  The plot on the left represents the probability of selecting either action 0, action 1, or action 2 (respectively) during state 0.  The plot on the right represents the predicted value for each of the actions in this state.  The choice of state 0 is arbitrary.\n",
        "\n",
        "When you click a button, it will call the `update` function with the button's corresponding action.  In terms of a Markov decision process, it simulates the agent taking the chosen action in the current state.  If you choose an action with a positive estimated reward, $\\theta$ will be updated to encourage that action being taken in this state by increasing it's probability.  If the estimated value if negative, then it will be discouraged."
      ]
    },
    {
      "cell_type": "markdown",
      "metadata": {
        "id": "gsQvQOmExLmH"
      },
      "source": [
        "## Defining an Environment\n",
        "\n",
        "Now that we have the mechanisms in place and tested, we create our proper Markov decision process.\n",
        "\n",
        "To do so, we define two classes: an Environment and an Agent.\n",
        "\n",
        "For our environment, we need to define it's transition probabilities $P_{ss'}^a$ and expected rewards $R_s^a$.  For our experiment, we use tables to represent these functions.\n",
        "\n",
        "To facilitate training, we follow OpenAI's Gym standard for writing environments.  This means that we also write a `step` method which accepts an action as input and returns the next state's observation, reward, and a boolean indicating if the episode is over.  Finally, we add a `reset` method which runs at the beginning of each episode to reset the state."
      ]
    },
    {
      "cell_type": "code",
      "execution_count": null,
      "metadata": {
        "id": "x0op-KqlxLmI"
      },
      "outputs": [],
      "source": [
        "class Environment:\n",
        "    def __init__(self):\n",
        "        self.t_limit = 5 # done after 5 time steps\n",
        "        self.states = [\n",
        "            [1, 0, 0],\n",
        "            [0, 1, 0],\n",
        "            [0, 0, 1]\n",
        "        ]\n",
        "        self.transition_probs = [\n",
        "            [\n",
        "                [ 0.1, 0.7, 0.2 ],\n",
        "                [ 0.1, 0.7, 0.2 ],\n",
        "                [ 0.1, 0.7, 0.2 ]\n",
        "            ],\n",
        "            [\n",
        "                [ 0.3, 0.3, 0.4 ],\n",
        "                [ 0.3, 0.3, 0.4 ],\n",
        "                [ 0.3, 0.3, 0.4 ]\n",
        "            ],\n",
        "            [\n",
        "                [ 0.5, 0.2, 0.3 ],\n",
        "                [ 0.5, 0.2, 0.3 ],\n",
        "                [ 0.5, 0.2, 0.3 ]\n",
        "            ]\n",
        "        ]\n",
        "        self.reward_probs = [\n",
        "            [ -1.0, 1.0, 0.0 ],\n",
        "            [ 0.0, -1.0, 1.0 ],\n",
        "            [ 1.0, -1.0, 0.0 ]\n",
        "        ]\n",
        "\n",
        "    def P(self, s, a):\n",
        "        return self.transition_probs[s][a]\n",
        "\n",
        "    def R(self, s, a):\n",
        "        return self.reward_probs[s][a]\n",
        "\n",
        "    def step(self, action):\n",
        "        next_state = np.random.choice(3, p=self.P(self.current_state, action))\n",
        "        reward = self.R(self.current_state, action)\n",
        "\n",
        "        self.t += 1\n",
        "        done = False\n",
        "        if self.t >= self.t_limit:\n",
        "            done = True\n",
        "\n",
        "        self.current_state = next_state\n",
        "\n",
        "        return obs, reward, done\n",
        "\n",
        "    def reset(self):\n",
        "        self.t = 0\n",
        "        self.current_state = 0\n",
        "        return self.states[self.current_state]"
      ]
    },
    {
      "cell_type": "markdown",
      "metadata": {
        "id": "ShOOSZq4xLmI"
      },
      "source": [
        "## Defining an Agent\n",
        "\n",
        "Next, we define our Agent class which will interact with our Environment class.  Here, we add give the agent it's own `theta` and `w` attributes as well as define it's `pi` method (similar to the previous example) and a `step` method, which accepts an observation from a state and returns an action, with the action being a sampling of $\\pi$ given the state and each possible action.  We also include our various update methods from above."
      ]
    },
    {
      "cell_type": "code",
      "execution_count": null,
      "metadata": {
        "id": "Jehzxen5xLmI"
      },
      "outputs": [],
      "source": [
        "class Agent:\n",
        "    def __init__(self, obs_size=3):\n",
        "        self.actions = [\n",
        "            [1, 0, 0],\n",
        "            [0, 1, 0],\n",
        "            [0, 0, 1]\n",
        "        ]\n",
        "        self.theta = np.random.normal(0.5, 0.1, (obs_size + len(actions), 1))\n",
        "        self.w = np.random.normal(0.5, 0.1, (obs_size + len(actions), 1))\n",
        "\n",
        "    def pi(self, s, a):\n",
        "        num = np.exp(np.dot(self.theta.T, phi(s, a)))\n",
        "        den = np.sum([np.exp(np.dot(self.theta.T, phi(s, b))) for b in actions])\n",
        "        return num/den\n",
        "\n",
        "    def step(self, observation):\n",
        "        probs = np.array([self.pi(observation, action) for action in self.actions]).flatten()\n",
        "        return np.random.choice(len(probs), p=probs)\n",
        "\n",
        "    def f(self, s, a):\n",
        "        return np.dot(self.w.T, phi(s, a)) - np.dot(self.w.T, np.sum([ pi(s, b) * phi(s, b) for b in actions], axis=0))\n",
        "\n",
        "    def f_grad(self, s, a, r):\n",
        "        df = phi(s, a) - np.sum([ pi(s, b) * phi(s, b) for b in actions], axis=0)\n",
        "        return (r - self.f(s,a))*df\n",
        "\n",
        "    def pi(self, s, a):\n",
        "        num = np.exp(np.dot(self.theta.T, phi(s, a)))\n",
        "        den = np.sum([np.exp(np.dot(self.theta.T, phi(s, b))) for b in actions])\n",
        "        return num/den\n",
        "\n",
        "    def pi_grad(self, s, a):\n",
        "        left = phi(s, a)*self.pi(s, a)\n",
        "        right = np.exp(np.dot(self.theta.T, phi(s, a))) * np.sum([ phi(s,b)*np.exp(np.dot(self.theta.T, phi(s, b))) for b in actions])\n",
        "        diff = left - right\n",
        "        den = (np.sum([ np.exp(np.dot(self.theta.T, phi(s, b))) for b in actions ]))**2\n",
        "        return diff/den\n",
        "\n",
        "    def update_theta(self, state, action):\n",
        "        alpha = 0.1\n",
        "        grad = self.pi_grad(state, action).reshape(self.theta.shape)\n",
        "        self.theta = alpha*grad*f(state, action)\n",
        "\n",
        "    def update_w(self, state, action, reward):\n",
        "        beta = 0.01\n",
        "        gradients = np.expand_dims(self.f_grad(state, action, reward), axis=0).T\n",
        "        self.w += beta*gradients\n",
        "\n",
        "    def train(self, data):\n",
        "        batch_size = len(data['states'])\n",
        "        for i in range(batch_size):\n",
        "            s = data['states'][i]\n",
        "            a = data['actions'][i]\n",
        "            r = data['rewards'][i]\n",
        "            self.update_w(s, a, r)\n",
        "            self.update_theta(s, a)"
      ]
    },
    {
      "cell_type": "markdown",
      "metadata": {
        "id": "ej9bwB4rxLmI"
      },
      "source": [
        "## Running the MDP\n",
        "\n",
        "Finally, we can run a single episode of the Markov decision process.  We first initialize an environment and an agent and reset the environment (collecting the initial observation).\n",
        "\n",
        "While the environment is not done, we pass the observation to the agent's step method, then collect the returned action.  We then pass the returned action to the environment to proceed to the next step.  The loop is finished when `done` is `False` (in this case, after 5 time steps)."
      ]
    },
    {
      "cell_type": "code",
      "execution_count": null,
      "metadata": {
        "id": "8D7cTx9kxLmI",
        "outputId": "3e953cbd-bbec-48bd-d2d2-c3e6af8e556f",
        "colab": {
          "base_uri": "https://localhost:8080/"
        }
      },
      "outputs": [
        {
          "output_type": "stream",
          "name": "stdout",
          "text": [
            "s: 0, a: 1\n",
            "r: 1.0\n",
            "\n",
            "s: 1, a: 1\n",
            "r: -1.0\n",
            "\n",
            "s: 0, a: 0\n",
            "r: -1.0\n",
            "\n",
            "s: 2, a: 1\n",
            "r: -1.0\n",
            "\n",
            "s: 0, a: 1\n",
            "r: 1.0\n",
            "\n",
            "Total Reward: -1.0\n"
          ]
        }
      ],
      "source": [
        "env = Environment()\n",
        "agent = Agent()\n",
        "\n",
        "done = False\n",
        "obs = env.reset()\n",
        "\n",
        "data = {\n",
        "    'states': [],\n",
        "    'actions': [],\n",
        "    'rewards': []\n",
        "}\n",
        "while not done:\n",
        "    action = agent.step(obs)\n",
        "    print(f\"s: {env.current_state}, a: {action}\")\n",
        "\n",
        "    obs, reward, done = env.step(action)\n",
        "    print(f\"r: {reward}\")\n",
        "\n",
        "    data['states'].append(np.array(obs))\n",
        "    data['actions'].append(actions[action])\n",
        "    data['rewards'].append(reward)\n",
        "    print()\n",
        "\n",
        "print(f\"Total Reward: {sum(data['rewards'])}\")"
      ]
    },
    {
      "cell_type": "markdown",
      "metadata": {
        "id": "4NXt2XtZxLmJ"
      },
      "source": [
        "## Training\n",
        "\n",
        "We can now train our agent on this environment.  First, we have to define a function to allow us to train our value approximator $f_w$.  Similarly to our `update` function used to train the policy, we write a `train_value` function to train $f$ by updating $w$."
      ]
    },
    {
      "cell_type": "code",
      "execution_count": null,
      "metadata": {
        "id": "HWJbky6JxLmJ"
      },
      "outputs": [],
      "source": [
        "def update_value(data):\n",
        "    beta = 0.01\n",
        "    batch_size = len(data['states'])\n",
        "    for i in range(batch_size):\n",
        "        s = data['states'][i]\n",
        "        a = data['actions'][i]\n",
        "        r = data['rewards'][i]\n",
        "        gradients = np.expand_dims(f_grad(s, a, r), axis=0).T\n",
        "        return beta*gradients"
      ]
    },
    {
      "cell_type": "markdown",
      "metadata": {
        "id": "pkbnCJLWxLmS"
      },
      "source": [
        "Here is the batch of data we just collected:"
      ]
    },
    {
      "cell_type": "code",
      "execution_count": null,
      "metadata": {
        "id": "Re3Rpp_lxLmT",
        "outputId": "e78f9f6f-739e-4bea-865a-bb2b5dfaf368",
        "colab": {
          "base_uri": "https://localhost:8080/"
        }
      },
      "outputs": [
        {
          "output_type": "execute_result",
          "data": {
            "text/plain": [
              "{'states': [array([1, 0, 0]),\n",
              "  array([1, 0, 0]),\n",
              "  array([1, 0, 0]),\n",
              "  array([1, 0, 0]),\n",
              "  array([1, 0, 0])],\n",
              " 'actions': [array([0, 1, 0]),\n",
              "  array([0, 1, 0]),\n",
              "  array([1, 0, 0]),\n",
              "  array([0, 1, 0]),\n",
              "  array([0, 1, 0])],\n",
              " 'rewards': [1.0, -1.0, -1.0, -1.0, 1.0]}"
            ]
          },
          "metadata": {},
          "execution_count": 13
        }
      ],
      "source": [
        "data"
      ]
    },
    {
      "cell_type": "markdown",
      "metadata": {
        "id": "VJRJ52D1xLmT"
      },
      "source": [
        "And here is what our current $f_w$ predicts the value of some arbitrary state and action is, and here is what it actually turned out to be:"
      ]
    },
    {
      "cell_type": "code",
      "execution_count": null,
      "metadata": {
        "id": "OlMxQ8nhxLmT",
        "outputId": "41b4df27-64d4-4a37-fc54-f14fb904cb1e",
        "colab": {
          "base_uri": "https://localhost:8080/"
        }
      },
      "outputs": [
        {
          "output_type": "stream",
          "name": "stdout",
          "text": [
            "f(s_k, a_k): -0.07761451446932788\n",
            "R(s_k, a_k): 1.0\n"
          ]
        }
      ],
      "source": [
        "theta = np.random.normal(0.5, 0.1, (len(states) + len(actions), 1))\n",
        "w = np.random.normal(0.5, 0.1, (6, 1))\n",
        "\n",
        "f_sample = f(data['states'][0], data['actions'][0])\n",
        "actual = data['rewards'][0]\n",
        "\n",
        "print('f(s_k, a_k):', f_sample[0])\n",
        "print('R(s_k, a_k):', actual)"
      ]
    },
    {
      "cell_type": "markdown",
      "metadata": {
        "id": "mvDvOc54xLmT"
      },
      "source": [
        "By running this function, we'll train our $f_w$ for one epoch on the data we collected.  After running this, run the above cell again and notice how the predicted value changes."
      ]
    },
    {
      "cell_type": "code",
      "execution_count": null,
      "metadata": {
        "id": "Wegq-Ox6xLmT"
      },
      "outputs": [],
      "source": [
        "losses = []\n",
        "for epoch in range(500):\n",
        "    w += update_value(data)\n",
        "    loss = []\n",
        "    for i in range(len(data['states'])):\n",
        "        f_sample = f(data['states'][0], data['actions'][0])\n",
        "        actual = data['rewards'][0]\n",
        "        loss.append(abs(actual - f_sample))\n",
        "    losses.append(np.mean(loss))\n",
        "losses = np.array(losses).flatten()"
      ]
    },
    {
      "cell_type": "code",
      "execution_count": null,
      "metadata": {
        "id": "ssdTkBVExLmT",
        "outputId": "a2553959-7569-4f32-fb83-d32797c75782",
        "colab": {
          "base_uri": "https://localhost:8080/",
          "height": 542
        }
      },
      "outputs": [
        {
          "output_type": "display_data",
          "data": {
            "text/html": [
              "<html>\n",
              "<head><meta charset=\"utf-8\" /></head>\n",
              "<body>\n",
              "    <div>            <script src=\"https://cdnjs.cloudflare.com/ajax/libs/mathjax/2.7.5/MathJax.js?config=TeX-AMS-MML_SVG\"></script><script type=\"text/javascript\">if (window.MathJax && window.MathJax.Hub && window.MathJax.Hub.Config) {window.MathJax.Hub.Config({SVG: {font: \"STIX-Web\"}});}</script>                <script type=\"text/javascript\">window.PlotlyConfig = {MathJaxConfig: 'local'};</script>\n",
              "        <script charset=\"utf-8\" src=\"https://cdn.plot.ly/plotly-2.24.1.min.js\"></script>                <div id=\"e3399111-a575-4d0f-bd0f-48ef1489a75b\" class=\"plotly-graph-div\" style=\"height:525px; width:100%;\"></div>            <script type=\"text/javascript\">                                    window.PLOTLYENV=window.PLOTLYENV || {};                                    if (document.getElementById(\"e3399111-a575-4d0f-bd0f-48ef1489a75b\")) {                    Plotly.newPlot(                        \"e3399111-a575-4d0f-bd0f-48ef1489a75b\",                        [{\"x\":[0,1,2,3,4,5,6,7,8,9,10,11,12,13,14,15,16,17,18,19,20,21,22,23,24,25,26,27,28,29,30,31,32,33,34,35,36,37,38,39,40,41,42,43,44,45,46,47,48,49,50,51,52,53,54,55,56,57,58,59,60,61,62,63,64,65,66,67,68,69,70,71,72,73,74,75,76,77,78,79,80,81,82,83,84,85,86,87,88,89,90,91,92,93,94,95,96,97,98,99,100,101,102,103,104,105,106,107,108,109,110,111,112,113,114,115,116,117,118,119,120,121,122,123,124,125,126,127,128,129,130,131,132,133,134,135,136,137,138,139,140,141,142,143,144,145,146,147,148,149,150,151,152,153,154,155,156,157,158,159,160,161,162,163,164,165,166,167,168,169,170,171,172,173,174,175,176,177,178,179,180,181,182,183,184,185,186,187,188,189,190,191,192,193,194,195,196,197,198,199,200,201,202,203,204,205,206,207,208,209,210,211,212,213,214,215,216,217,218,219,220,221,222,223,224,225,226,227,228,229,230,231,232,233,234,235,236,237,238,239,240,241,242,243,244,245,246,247,248,249,250,251,252,253,254,255,256,257,258,259,260,261,262,263,264,265,266,267,268,269,270,271,272,273,274,275,276,277,278,279,280,281,282,283,284,285,286,287,288,289,290,291,292,293,294,295,296,297,298,299,300,301,302,303,304,305,306,307,308,309,310,311,312,313,314,315,316,317,318,319,320,321,322,323,324,325,326,327,328,329,330,331,332,333,334,335,336,337,338,339,340,341,342,343,344,345,346,347,348,349,350,351,352,353,354,355,356,357,358,359,360,361,362,363,364,365,366,367,368,369,370,371,372,373,374,375,376,377,378,379,380,381,382,383,384,385,386,387,388,389,390,391,392,393,394,395,396,397,398,399,400,401,402,403,404,405,406,407,408,409,410,411,412,413,414,415,416,417,418,419,420,421,422,423,424,425,426,427,428,429,430,431,432,433,434,435,436,437,438,439,440,441,442,443,444,445,446,447,448,449,450,451,452,453,454,455,456,457,458,459,460,461,462,463,464,465,466,467,468,469,470,471,472,473,474,475,476,477,478,479,480,481,482,483,484,485,486,487,488,489,490,491,492,493,494,495,496,497,498,499],\"y\":[1.0718762599973721,1.066168561502478,1.0604912562752808,1.054844182472839,1.0492271791140153,1.0436400860748938,1.0380827440842093,1.0325549947188115,1.0270566803991472,1.0215876443847662,1.0161477307698572,1.0107367844787996,1.005354651261745,1.0000011776902196,0.9946762111527491,0.9893795998505102,0.9841111927930017,0.9788708397937412,0.9736583914659833,0.9684736992184609,0.96331661525115,0.9581869925510548,0.9530846848880186,0.9480095468105547,0.9429614336416996,0.9379402014748883,0.9329457071698533,0.9279778083485428,0.9230363633910633,0.91812123143164,0.9132322723546048,0.908369346790398,0.9035323161115991,0.8987210424289718,0.8939353885875345,0.8891752181626515,0.8844403954561418,0.8797307854924121,0.8750462540146093,0.8703866674807921,0.8657518930601251,0.8611417986290911,0.8565562527677265,0.8519951247558734,0.8474582845694524,0.8429456028767591,0.8384569510347738,0.8339922010854964,0.8295512257522979,0.8251338984362926,0.8207400932127282,0.8163696848273974,0.8120225486930659,0.8076985608859217,0.8033975981420429,0.7991195378538822,0.7948642580667729,0.7906316374754518,0.786421555420602,0.7822338918854124,0.778068527492156,0.7739253434987885,0.769804221795562,0.7657050449016576,0.761627695961838,0.7575720587431146,0.7535380176314358,0.7495254576283893,0.7455342643479249,0.7415643240130947,0.7376155234528068,0.7336877500986021,0.7297808919814437,0.7258948377285253,0.7220294765600962,0.7181846982863043,0.714360393304053,0.7105564525938782,0.7067727677168408,0.7030092308114338,0.6992657345905091,0.6955421723382176,0.691838437906969,0.6881544257144037,0.6844900307403843,0.6808451485240017,0.6772196751605969,0.6736135072987985,0.6700265421375782,0.6664586774233179,0.6629098114468966,0.6593798430407904,0.6558686715761879,0.6523761969601228,0.6489023196326191,0.6454469405638545,0.6420099612513362,0.6385912837170933,0.6351908105048836,0.6318084446774153,0.6284440898135847,0.6250976500057256,0.6217690298568772,0.6184581344780631,0.6151648694855869,0.611889140998342,0.6086308556351351,0.6053899205120237,0.6021662432396683,0.5989597319207,0.5957702951470984,0.5925978419975881,0.5894422820350459,0.5863035253039222,0.5831814823276772,0.5800760641062306,0.5769871821134236,0.5739147482944955,0.570858675063574,0.5678188753011782,0.5647952623517346,0.5617877500211077,0.5587962525741417,0.5558206847322176,0.5528609616708215,0.5499169990171267,0.5469887128475882,0.544076019685551,0.5411788364988696,0.5382970806975416,0.5354306701313527,0.5325795230875359,0.5297435582884408,0.5269226948892175,0.5241168524755119,0.5213259510611726,0.5185499110859723,0.5157886534133372,0.5130420993280942,0.5103101705342242,0.5075927891526322,0.5048898777189255,0.5022013591812066,0.49952715689787636,0.49686719463544887,0.49422139656637876,0.4915896872668992,0.4889719917148718,0.48636823528764844,0.4837783437599429,0.4812022433017167,0.47863986047607243,0.476091122237162,0.4735559559281029,0.471034289278908,0.46852605040442497,0.466031167802287,0.4635495703508745,0.4610811873072878,0.45862594830533043,0.45618378335350274,0.45375462283300727,0.45133839749576377,0.4489350384624357,0.446544477220466,0.4441666456221237,0.4418014758825627,0.4394489005778879,0.43710885264323407,0.4347812653708534,0.43246607240821466,0.43016320775611083,0.42787260576677805,0.4255942011420246,0.4233279289313683,0.42107372453018665,0.4188315236778733,0.4166012624560077,0.41438287728653195,0.41217630492993906,0.4099814824834698,0.40779834737931975,0.4056268373828552,0.40346689059083973,0.40131844542966916,0.39918144065361605,0.39705581534308454,0.3949415089028725,0.3928384610604456,0.39074661186421766,0.3886659016818428,0.3865962711985147,0.38453766141527623,0.3824900136473375,0.38045326952240244,0.37842737097900536,0.3764122602648553,0.3744078799351904,0.37241417285113954,0.37043108217809395,0.3684585513840869,0.366496524238182,0.36454494480887045,0.3626037574624764,0.3606729068615716,0.3587523379633968,0.35684199601829336,0.35494182656814277,0.3530517754448136,0.3511717887686172,0.34930181294677287,0.34744179467187875,0.3455916809203934,0.3437514189511225,0.34192095630371777,0.34010024079717927,0.3382892205283695,0.33648784387053277,0.33469605947182357,0.3329138162538432,0.33114106341018357,0.3293777504049785,0.3276238269714632,0.3258792431105414,0.3241439490893603,0.3224178954398924,0.3207010329575254,0.3189933126996598,0.3172946859843132,0.31560510438873335,0.3139245197480166,0.31225288415373575,0.3105901499525743,0.30893626974496735,0.30729119638375146,0.30565488297281895,0.30402728286578296,0.30240834966464625,0.30079803721847964,0.29919629962210514,0.29760309121478834,0.29601836657893654,0.29444208053880383,0.29287418815920296,0.2913146447442253,0.28976340583596616,0.288220427213257,0.2866856648904056,0.2851590751159414,0.28364061437136945,0.2821302393699282,0.2806279070553569,0.27913357460066734,0.27764719940692384,0.27616873910202777,0.2746981515395106,0.27323539479733217,0.27178042717668494,0.27033320720080645,0.2688936936137961,0.2674618453794396,0.2660376216800382,0.26462098191524663,0.26321188570091414,0.26181029286793445,0.26041616346109997,0.25902945773796293,0.2576501361677026,0.25627815942999843,0.25491348841390904,0.25355608421675657,0.2522059081430196,0.25086292170322755,0.24952708661286582,0.24819836479128243,0.24687671836060412,0.2455621096446551,0.2442545011678845,0.24295385565429628,0.2416601360263888,0.24037330540409552,0.23909332710373543,0.23782016463696665,0.23655378170974597,0.2352941422212944,0.2340412102630689,0.23279495011773732,0.2315553262581612,0.23032230334638246,0.22909584623261647,0.2278759199542495,0.22666248973484268,0.22545552098314015,0.22425497929208316,0.2230608304378292,0.22187304037877595,0.22069157525459202,0.21951640138525041,0.21834748527006917,0.2171847935867559,0.21602829319045824,0.2148779511128187,0.21373373456103542,0.21259561091692647,0.2114635477360005,0.2103375127465319,0.20921747384864062,0.20810339911337747,0.20699525678181319,0.20589301526413406,0.20479664313874038,0.20370610915135137,0.20262138221411452,0.20154243140471814,0.20046922596551112,0.1994017353026255,0.19833992898510433,0.19728377674403452,0.19623324847168355,0.19518831422064165,0.19414894420296736,0.19311510878933913,0.19208677850821043,0.19106392404496964,0.19004651624110347,0.18903452609336757,0.18802792475295838,0.18702668352469076,0.18603077386618083,0.1850401673870311,0.1840548358480225,0.18307475116030847,0.18209988538461408,0.1811302107304401,0.18016569955527095,0.1792063243637858,0.1782520578070761,0.17730287268186407,0.17635874192972945,0.17541963863633592,0.17448553603066597,0.1735564074842556,0.1726322265104373,0.17171296676358339,0.17079860203835584,0.16988910626895903,0.16898445352839664,0.16808461802773278,0.16718957411535607,0.1662992962762494,0.16541375913126188,0.16453293743638575,0.1636568060820366,0.16278534009233736,0.16191851462440676,0.1610563049676509,0.16019868654305824,0.1593456349025003,0.15849712572803343,0.15765313483120624,0.1568136381523697,0.15597861175999184,0.1551480318499745,0.15432187474497616,0.15350011689373566,0.15268273487040163,0.15186970537386413,0.1510610052270911,0.15025661137646706,0.14945650089113582,0.14866065096234782,0.14786903890280867,0.1470816421460326,0.14629843824570044,0.1455194048750178,0.14474451982608005,0.1439737610092392,0.1432071064524728,0.1424445343007592,0.14168602281545362,0.1409315503736689,0.14018109546765867,0.13943463670420453,0.13869215280400637,0.13795362260107513,0.13721902504213002,0.1364883391859979,0.13576154420301678,0.13503861937444173,0.13431954409185465,0.13360429785657568,0.13289286027908032,0.13218521107841696,0.13148133008162965,0.1307811972231825,0.13008479254438765,0.12939209619283676,0.12870308842183453,0.12801774958983592,0.12733606015988663,0.12665800069906596,0.1259835518779323,0.12531269446997273,0.12464540935105517,0.12398167749888189,0.12332147999244913,0.12266479801150598,0.12201161283601891,0.12136190584563777,0.12071565851916533,0.12007285243402865,0.11943346926575404,0.1187974907874455,0.11816489886926429,0.1175356754779121,0.11690980267611728,0.11628726262212419,0.11566803756918265,0.11505210986504377,0.11443946195145649,0.11383007636366638,0.11322393572991807,0.11262102277096009,0.1120213202995528,0.11142481121997738,0.11083147852754904,0.11024130530813281,0.10965427473765987,0.10907037008165044,0.10848957469473297,0.10791187202017394,0.10733724558940283,0.10676567902154321,0.1061971560229471,0.10563166038672911,0.10506917599230481,0.10450968680493111,0.10395317687524952,0.10339963033883137,0.10284903141572532,0.10230136441000748,0.1017566137093342,0.10121476378449712,0.10067579918897995,0.10013970455851906,0.09960646461066425,0.09907606414434422,0.0985484880394325,0.09802372125631686,0.09750174883547036,0.09698255589702498,0.09646612764034757,0.09595244934361724,0.09544150636340687,0.09493328413426427,0.09442776816829834,0.09392494405476515,0.09342479745965737,0.09292731412529598,0.09243247986992342,0.09194028058729864,0.09145070224629737,0.09096373089050913,0.09047935263784113,0.08999755368012252,0.08951832028271012,0.08904163878409732,0.08856749559552424,0.08809587720059087,0.08762677015487141,0.08716016108553104,0.08669603669094483,0.08623438374031833,0.08577518907331072,0.08531843959965979,0.08486412229880735,0.08441222421953043,0.08396273247956998,0.08351563426526476,0.08307091683118606,0.08262856749977354,0.08218857366097465,0.08175092277188467,0.08131560235638968,0.08088260000481018,0.08045190337354824,0.08002350018473448,0.07959737822587898,0.07917352534952338,0.07875192947289289,0.07833257857755394,0.0779154607090704,0.07750056397666283,0.07708787655286975,0.07667738667321111,0.0762690826358512,0.07586295280126687,0.07545898559191455,0.07505716949190111,0.07465749304665437],\"type\":\"scatter\",\"uid\":\"53ce5509-319e-44f7-97b7-6c78d7f0a301\"}],                        {\"template\":{\"data\":{\"pie\":[{\"automargin\":true,\"type\":\"pie\"}],\"scatter3d\":[{\"line\":{\"width\":3},\"marker\":{\"size\":9},\"type\":\"scatter3d\"}],\"scattergeo\":[{\"line\":{\"width\":3},\"marker\":{\"size\":9},\"type\":\"scattergeo\"}],\"scattergl\":[{\"line\":{\"width\":3},\"marker\":{\"size\":9},\"type\":\"scattergl\"}],\"scatterpolargl\":[{\"line\":{\"width\":3},\"marker\":{\"size\":9},\"type\":\"scatterpolargl\"}],\"scatterpolar\":[{\"line\":{\"width\":3},\"marker\":{\"size\":9},\"type\":\"scatterpolar\"}],\"scatter\":[{\"line\":{\"width\":3},\"marker\":{\"size\":9},\"type\":\"scatter\"}],\"scatterternary\":[{\"line\":{\"width\":3},\"marker\":{\"size\":9},\"type\":\"scatterternary\"}],\"table\":[{\"cells\":{\"height\":30},\"header\":{\"height\":36},\"type\":\"table\"}]},\"layout\":{\"font\":{\"size\":18},\"xaxis\":{\"title\":{\"standoff\":15}},\"yaxis\":{\"title\":{\"standoff\":15}}}},\"title\":{\"text\":\"Loss\"}},                        {\"responsive\": true}                    ).then(function(){\n",
              "                            \n",
              "var gd = document.getElementById('e3399111-a575-4d0f-bd0f-48ef1489a75b');\n",
              "var x = new MutationObserver(function (mutations, observer) {{\n",
              "        var display = window.getComputedStyle(gd).display;\n",
              "        if (!display || display === 'none') {{\n",
              "            console.log([gd, 'removed!']);\n",
              "            Plotly.purge(gd);\n",
              "            observer.disconnect();\n",
              "        }}\n",
              "}});\n",
              "\n",
              "// Listen for the removal of the full notebook cells\n",
              "var notebookContainer = gd.closest('#notebook-container');\n",
              "if (notebookContainer) {{\n",
              "    x.observe(notebookContainer, {childList: true});\n",
              "}}\n",
              "\n",
              "// Listen for the clearing of the current output cell\n",
              "var outputEl = gd.closest('.output');\n",
              "if (outputEl) {{\n",
              "    x.observe(outputEl, {childList: true});\n",
              "}}\n",
              "\n",
              "                        })                };                            </script>        </div>\n",
              "</body>\n",
              "</html>"
            ]
          },
          "metadata": {}
        }
      ],
      "source": [
        "fig = go.FigureWidget(\n",
        "    data=[go.Scatter(x=np.arange(len(losses)), y=losses)],\n",
        "    layout=go.Layout(title=\"Loss\", template=\"presentation\")\n",
        ")\n",
        "fig.show()"
      ]
    },
    {
      "cell_type": "markdown",
      "metadata": {
        "id": "p_ResFMJxLmU"
      },
      "source": [
        "Finally, we combine everything we have and let it train:"
      ]
    },
    {
      "cell_type": "code",
      "execution_count": null,
      "metadata": {
        "id": "Y6exipSdxLmU"
      },
      "outputs": [],
      "source": [
        "env = Environment()\n",
        "agent = Agent()\n",
        "\n",
        "total_rewards = []\n",
        "episodes = 1000\n",
        "for ep in range(episodes):\n",
        "    done = False\n",
        "    obs = env.reset()\n",
        "\n",
        "    data = {\n",
        "        'states': [],\n",
        "        'actions': [],\n",
        "        'rewards': []\n",
        "    }\n",
        "    while not done:\n",
        "        action = agent.step(obs)\n",
        "        obs, reward, done = env.step(action)\n",
        "\n",
        "        data['states'].append(np.array(obs))\n",
        "        data['actions'].append(actions[action])\n",
        "        data['rewards'].append(reward)\n",
        "\n",
        "    agent.train(data)\n",
        "    total_rewards.append(sum(data['rewards']))"
      ]
    },
    {
      "cell_type": "code",
      "execution_count": null,
      "metadata": {
        "id": "L5ibj8soxLmU",
        "outputId": "d0cab4c0-e7c2-490e-dc7f-86d4817aa74d",
        "colab": {
          "base_uri": "https://localhost:8080/",
          "height": 542
        }
      },
      "outputs": [
        {
          "output_type": "display_data",
          "data": {
            "text/html": [
              "<html>\n",
              "<head><meta charset=\"utf-8\" /></head>\n",
              "<body>\n",
              "    <div>            <script src=\"https://cdnjs.cloudflare.com/ajax/libs/mathjax/2.7.5/MathJax.js?config=TeX-AMS-MML_SVG\"></script><script type=\"text/javascript\">if (window.MathJax && window.MathJax.Hub && window.MathJax.Hub.Config) {window.MathJax.Hub.Config({SVG: {font: \"STIX-Web\"}});}</script>                <script type=\"text/javascript\">window.PlotlyConfig = {MathJaxConfig: 'local'};</script>\n",
              "        <script charset=\"utf-8\" src=\"https://cdn.plot.ly/plotly-2.24.1.min.js\"></script>                <div id=\"bf3f3832-85f0-438a-a00d-003a6110ea21\" class=\"plotly-graph-div\" style=\"height:525px; width:100%;\"></div>            <script type=\"text/javascript\">                                    window.PLOTLYENV=window.PLOTLYENV || {};                                    if (document.getElementById(\"bf3f3832-85f0-438a-a00d-003a6110ea21\")) {                    Plotly.newPlot(                        \"bf3f3832-85f0-438a-a00d-003a6110ea21\",                        [{\"x\":[0,1,2,3,4,5,6,7,8,9,10,11,12,13,14,15,16,17,18,19,20,21,22,23,24,25,26,27,28,29,30,31,32,33,34,35,36,37,38,39,40,41,42,43,44,45,46,47,48,49,50,51,52,53,54,55,56,57,58,59,60,61,62,63,64,65,66,67,68,69,70,71,72,73,74,75,76,77,78,79,80,81,82,83,84,85,86,87,88,89,90,91,92,93,94,95,96,97,98,99,100,101,102,103,104,105,106,107,108,109,110,111,112,113,114,115,116,117,118,119,120,121,122,123,124,125,126,127,128,129,130,131,132,133,134,135,136,137,138,139,140,141,142,143,144,145,146,147,148,149,150,151,152,153,154,155,156,157,158,159,160,161,162,163,164,165,166,167,168,169,170,171,172,173,174,175,176,177,178,179,180,181,182,183,184,185,186,187,188,189,190,191,192,193,194,195,196,197,198,199,200,201,202,203,204,205,206,207,208,209,210,211,212,213,214,215,216,217,218,219,220,221,222,223,224,225,226,227,228,229,230,231,232,233,234,235,236,237,238,239,240,241,242,243,244,245,246,247,248,249,250,251,252,253,254,255,256,257,258,259,260,261,262,263,264,265,266,267,268,269,270,271,272,273,274,275,276,277,278,279,280,281,282,283,284,285,286,287,288,289,290,291,292,293,294,295,296,297,298,299,300,301,302,303,304,305,306,307,308,309,310,311,312,313,314,315,316,317,318,319,320,321,322,323,324,325,326,327,328,329,330,331,332,333,334,335,336,337,338,339,340,341,342,343,344,345,346,347,348,349,350,351,352,353,354,355,356,357,358,359,360,361,362,363,364,365,366,367,368,369,370,371,372,373,374,375,376,377,378,379,380,381,382,383,384,385,386,387,388,389,390,391,392,393,394,395,396,397,398,399,400,401,402,403,404,405,406,407,408,409,410,411,412,413,414,415,416,417,418,419,420,421,422,423,424,425,426,427,428,429,430,431,432,433,434,435,436,437,438,439,440,441,442,443,444,445,446,447,448,449,450,451,452,453,454,455,456,457,458,459,460,461,462,463,464,465,466,467,468,469,470,471,472,473,474,475,476,477,478,479,480,481,482,483,484,485,486,487,488,489,490,491,492,493,494,495,496,497,498,499,500,501,502,503,504,505,506,507,508,509,510,511,512,513,514,515,516,517,518,519,520,521,522,523,524,525,526,527,528,529,530,531,532,533,534,535,536,537,538,539,540,541,542,543,544,545,546,547,548,549,550,551,552,553,554,555,556,557,558,559,560,561,562,563,564,565,566,567,568,569,570,571,572,573,574,575,576,577,578,579,580,581,582,583,584,585,586,587,588,589,590,591,592,593,594,595,596,597,598,599,600,601,602,603,604,605,606,607,608,609,610,611,612,613,614,615,616,617,618,619,620,621,622,623,624,625,626,627,628,629,630,631,632,633,634,635,636,637,638,639,640,641,642,643,644,645,646,647,648,649,650,651,652,653,654,655,656,657,658,659,660,661,662,663,664,665,666,667,668,669,670,671,672,673,674,675,676,677,678,679,680,681,682,683,684,685,686,687,688,689,690,691,692,693,694,695,696,697,698,699,700,701,702,703,704,705,706,707,708,709,710,711,712,713,714,715,716,717,718,719,720,721,722,723,724,725,726,727,728,729,730,731,732,733,734,735,736,737,738,739,740,741,742,743,744,745,746,747,748,749,750,751,752,753,754,755,756,757,758,759,760,761,762,763,764,765,766,767,768,769,770,771,772,773,774,775,776,777,778,779,780,781,782,783,784,785,786,787,788,789,790,791,792,793,794,795,796,797,798,799,800,801,802,803,804,805,806,807,808,809,810,811,812,813,814,815,816,817,818,819,820,821,822,823,824,825,826,827,828,829,830,831,832,833,834,835,836,837,838,839,840,841,842,843,844,845,846,847,848,849,850,851,852,853,854,855,856,857,858,859,860,861,862,863,864,865,866,867,868,869,870,871,872,873,874,875,876,877,878,879,880,881,882,883,884,885,886,887,888,889,890,891,892,893,894,895,896,897,898,899,900,901,902,903,904,905,906,907,908,909,910,911,912,913,914,915,916,917,918,919,920,921,922,923,924,925,926,927,928,929,930,931,932,933,934,935,936,937,938,939,940,941,942,943,944,945,946,947,948,949,950,951,952,953,954,955,956,957,958,959,960,961,962,963,964,965,966,967,968,969,970,971,972,973,974,975,976,977,978,979,980,981,982,983,984,985,986,987,988,989,990,991,992,993,994,995,996,997,998,999],\"y\":[0.11,0.13,0.13,0.11,0.12,0.14,0.12,0.11,0.06,0.05,0.03,0.01,0.0,0.0,0.02,0.05,0.05,0.03,0.04,0.05,0.01,0.07,0.09,0.09,0.05,0.01,0.01,-0.02,-0.02,-0.02,-0.05,-0.06,-0.05,-0.07,-0.03,-0.04,-0.01,0.02,0.05,0.0,0.03,0.07,0.07,0.12,0.11,0.11,0.13,0.09,0.1,0.1,0.11,0.12,0.12,0.13,0.15,0.16,0.16,0.13,0.12,0.1,0.11,0.13,0.14,0.12,0.11,0.12,0.17,0.15,0.17,0.17,0.18,0.18,0.22,0.2,0.21,0.25,0.23,0.22,0.22,0.17,0.17,0.14,0.15,0.15,0.18,0.19,0.23,0.24,0.21,0.21,0.19,0.16,0.15,0.16,0.12,0.11,0.12,0.11,0.1,0.14,0.13,0.13,0.13,0.12,0.15,0.16,0.13,0.12,0.13,0.11,0.13,0.14,0.18,0.22,0.17,0.2,0.18,0.18,0.17,0.11,0.16,0.14,0.1,0.07,0.1,0.15,0.13,0.11,0.11,0.12,0.12,0.19,0.21,0.18,0.15,0.16,0.18,0.19,0.19,0.22,0.19,0.15,0.16,0.16,0.16,0.13,0.08,0.08,0.1,0.12,0.1,0.08,0.09,0.06,0.05,0.07,0.08,0.05,0.01,0.05,0.0,0.03,0.01,0.03,0.0,0.0,-0.04,-0.02,-0.03,0.0,-0.03,-0.05,-0.11,-0.1,-0.15,-0.18,-0.17,-0.18,-0.18,-0.16,-0.13,-0.14,-0.11,-0.14,-0.18,-0.17,-0.21,-0.21,-0.21,-0.2,-0.18,-0.17,-0.14,-0.18,-0.15,-0.15,-0.1,-0.12,-0.14,-0.13,-0.1,-0.12,-0.16,-0.16,-0.18,-0.2,-0.18,-0.16,-0.17,-0.15,-0.14,-0.15,-0.15,-0.16,-0.16,-0.2,-0.21,-0.23,-0.26,-0.21,-0.24,-0.27,-0.26,-0.27,-0.28,-0.34,-0.29,-0.29,-0.33,-0.35,-0.34,-0.4,-0.39,-0.33,-0.27,-0.25,-0.27,-0.3,-0.28,-0.26,-0.23,-0.24,-0.2,-0.21,-0.21,-0.2,-0.21,-0.22,-0.25,-0.26,-0.26,-0.26,-0.27,-0.27,-0.26,-0.27,-0.28,-0.23,-0.21,-0.21,-0.18,-0.2,-0.16,-0.18,-0.17,-0.17,-0.15,-0.16,-0.14,-0.14,-0.14,-0.13,-0.09,-0.11,-0.06,-0.07,-0.08,-0.02,-0.01,0.0,-0.04,-0.04,-0.03,0.01,0.06,0.06,0.05,0.05,0.06,0.06,0.06,0.04,0.02,0.03,0.05,0.08,0.04,0.05,0.04,0.05,-0.01,0.0,0.04,0.03,0.02,0.03,0.03,0.07,0.1,0.09,0.04,0.06,0.01,-0.03,0.0,-0.02,-0.02,0.01,0.01,-0.04,0.0,0.0,-0.02,0.01,0.01,0.05,0.01,0.0,0.01,0.04,0.05,0.08,0.08,0.06,0.03,-0.01,-0.01,0.01,-0.04,-0.09,-0.09,-0.08,-0.12,-0.12,-0.15,-0.15,-0.11,-0.12,-0.09,-0.08,-0.07,-0.06,-0.07,-0.07,-0.09,-0.09,-0.09,-0.13,-0.13,-0.15,-0.11,-0.09,-0.09,-0.09,-0.05,-0.06,-0.05,-0.05,-0.1,-0.12,-0.07,-0.1,-0.11,-0.07,-0.1,-0.08,-0.09,-0.14,-0.13,-0.1,-0.11,-0.06,-0.1,-0.1,-0.15,-0.12,-0.08,-0.06,-0.04,-0.07,-0.11,-0.12,-0.11,-0.08,-0.1,-0.16,-0.18,-0.15,-0.13,-0.18,-0.19,-0.19,-0.22,-0.23,-0.26,-0.28,-0.29,-0.32,-0.34,-0.33,-0.33,-0.34,-0.33,-0.31,-0.35,-0.32,-0.31,-0.31,-0.29,-0.27,-0.3,-0.3,-0.25,-0.27,-0.29,-0.32,-0.25,-0.25,-0.26,-0.26,-0.24,-0.29,-0.31,-0.3,-0.3,-0.3,-0.3,-0.32,-0.29,-0.26,-0.26,-0.22,-0.24,-0.22,-0.21,-0.21,-0.18,-0.16,-0.2,-0.21,-0.22,-0.16,-0.13,-0.13,-0.17,-0.14,-0.15,-0.11,-0.09,-0.1,-0.13,-0.1,-0.12,-0.12,-0.16,-0.16,-0.17,-0.16,-0.13,-0.15,-0.16,-0.11,-0.13,-0.13,-0.14,-0.15,-0.17,-0.14,-0.14,-0.16,-0.16,-0.19,-0.21,-0.2,-0.18,-0.21,-0.23,-0.21,-0.22,-0.22,-0.22,-0.2,-0.24,-0.27,-0.25,-0.25,-0.25,-0.26,-0.28,-0.26,-0.2,-0.2,-0.19,-0.16,-0.15,-0.13,-0.1,-0.09,-0.09,-0.09,-0.06,-0.1,-0.11,-0.09,-0.05,-0.06,-0.05,-0.09,-0.1,-0.12,-0.12,-0.11,-0.14,-0.1,-0.07,-0.04,-0.09,-0.04,-0.03,-0.05,-0.09,-0.04,-0.05,-0.05,-0.11,-0.11,-0.1,-0.1,-0.1,-0.14,-0.15,-0.18,-0.17,-0.19,-0.16,-0.13,-0.17,-0.17,-0.16,-0.18,-0.2,-0.26,-0.29,-0.3,-0.27,-0.33,-0.32,-0.32,-0.3,-0.3,-0.31,-0.33,-0.34,-0.32,-0.31,-0.32,-0.32,-0.36,-0.34,-0.3,-0.29,-0.31,-0.28,-0.29,-0.29,-0.29,-0.27,-0.31,-0.31,-0.32,-0.33,-0.33,-0.28,-0.32,-0.32,-0.34,-0.37,-0.39,-0.38,-0.37,-0.33,-0.35,-0.31,-0.31,-0.33,-0.34,-0.36,-0.41,-0.41,-0.42,-0.45,-0.49,-0.5,-0.51,-0.5,-0.52,-0.54,-0.55,-0.54,-0.51,-0.51,-0.45,-0.42,-0.46,-0.46,-0.42,-0.42,-0.41,-0.42,-0.4,-0.38,-0.35,-0.35,-0.38,-0.39,-0.41,-0.39,-0.42,-0.39,-0.38,-0.39,-0.43,-0.37,-0.38,-0.35,-0.31,-0.31,-0.29,-0.32,-0.3,-0.34,-0.34,-0.36,-0.36,-0.37,-0.4,-0.4,-0.4,-0.37,-0.33,-0.33,-0.33,-0.33,-0.3,-0.27,-0.27,-0.26,-0.28,-0.31,-0.29,-0.26,-0.3,-0.28,-0.31,-0.3,-0.26,-0.28,-0.29,-0.31,-0.3,-0.29,-0.32,-0.31,-0.33,-0.31,-0.3,-0.27,-0.22,-0.22,-0.24,-0.23,-0.22,-0.24,-0.22,-0.2,-0.15,-0.11,-0.11,-0.13,-0.12,-0.14,-0.11,-0.11,-0.1,-0.08,-0.07,-0.05,-0.02,-0.02,-0.02,-0.02,-0.01,-0.02,-0.03,0.0,0.01,0.02,0.04,0.04,-0.02,-0.03,-0.06,-0.06,-0.05,-0.06,-0.09,-0.12,-0.06,-0.09,-0.09,-0.14,-0.15,-0.14,-0.15,-0.18,-0.17,-0.18,-0.2,-0.19,-0.17,-0.12,-0.09,-0.12,-0.14,-0.17,-0.16,-0.18,-0.18,-0.15,-0.13,-0.07,-0.04,-0.03,-0.05,-0.04,-0.06,-0.09,-0.06,-0.09,-0.1,-0.03,0.0,-0.01,0.0,0.0,0.06,0.08,0.08,0.06,0.02,-0.01,0.01,-0.02,-0.01,-0.03,-0.04,-0.02,0.03,0.03,-0.01,-0.06,-0.02,-0.02,0.0,0.03,0.0,-0.02,-0.03,-0.03,0.01,0.03,0.04,0.03,0.02,-0.02,-0.06,-0.08,-0.07,-0.06,-0.07,-0.08,-0.09,-0.1,-0.12,-0.11,-0.06,-0.05,0.0,0.01,0.04,0.06,0.09,0.1,0.12,0.13,0.15,0.17,0.15,0.12,0.17,0.19,0.23,0.22,0.25,0.25,0.27,0.27,0.2,0.28,0.29,0.33,0.31,0.32,0.31,0.31,0.31,0.33,0.34,0.34,0.33,0.26,0.25,0.21,0.22,0.24,0.23,0.22,0.23,0.26,0.25,0.22,0.22,0.25,0.26,0.26,0.32,0.4,0.39,0.4,0.38,0.34,0.33,0.34,0.34,0.34,0.29,0.29,0.27,0.27,0.33,0.31,0.34,0.33,0.33,0.37,0.35,0.32,0.31,0.32,0.29,0.31,0.29,0.25,0.24,0.2,0.24,0.19,0.19,0.2,0.15,0.12,0.11,0.09,0.07,0.06,0.06,0.06,0.03,0.04,0.04,0.07,0.09,0.07,0.06,0.03,0.02,0.02,-0.02,-0.01,-0.01,-0.05],\"type\":\"scatter\",\"uid\":\"10b29f2b-bfce-4eb2-a992-2031a09113ac\"}],                        {\"template\":{\"data\":{\"pie\":[{\"automargin\":true,\"type\":\"pie\"}],\"scatter3d\":[{\"line\":{\"width\":3},\"marker\":{\"size\":9},\"type\":\"scatter3d\"}],\"scattergeo\":[{\"line\":{\"width\":3},\"marker\":{\"size\":9},\"type\":\"scattergeo\"}],\"scattergl\":[{\"line\":{\"width\":3},\"marker\":{\"size\":9},\"type\":\"scattergl\"}],\"scatterpolargl\":[{\"line\":{\"width\":3},\"marker\":{\"size\":9},\"type\":\"scatterpolargl\"}],\"scatterpolar\":[{\"line\":{\"width\":3},\"marker\":{\"size\":9},\"type\":\"scatterpolar\"}],\"scatter\":[{\"line\":{\"width\":3},\"marker\":{\"size\":9},\"type\":\"scatter\"}],\"scatterternary\":[{\"line\":{\"width\":3},\"marker\":{\"size\":9},\"type\":\"scatterternary\"}],\"table\":[{\"cells\":{\"height\":30},\"header\":{\"height\":36},\"type\":\"table\"}]},\"layout\":{\"font\":{\"size\":18},\"xaxis\":{\"title\":{\"standoff\":15}},\"yaxis\":{\"title\":{\"standoff\":15}}}},\"title\":{\"text\":\"Total Rewards\"}},                        {\"responsive\": true}                    ).then(function(){\n",
              "                            \n",
              "var gd = document.getElementById('bf3f3832-85f0-438a-a00d-003a6110ea21');\n",
              "var x = new MutationObserver(function (mutations, observer) {{\n",
              "        var display = window.getComputedStyle(gd).display;\n",
              "        if (!display || display === 'none') {{\n",
              "            console.log([gd, 'removed!']);\n",
              "            Plotly.purge(gd);\n",
              "            observer.disconnect();\n",
              "        }}\n",
              "}});\n",
              "\n",
              "// Listen for the removal of the full notebook cells\n",
              "var notebookContainer = gd.closest('#notebook-container');\n",
              "if (notebookContainer) {{\n",
              "    x.observe(notebookContainer, {childList: true});\n",
              "}}\n",
              "\n",
              "// Listen for the clearing of the current output cell\n",
              "var outputEl = gd.closest('.output');\n",
              "if (outputEl) {{\n",
              "    x.observe(outputEl, {childList: true});\n",
              "}}\n",
              "\n",
              "                        })                };                            </script>        </div>\n",
              "</body>\n",
              "</html>"
            ]
          },
          "metadata": {}
        }
      ],
      "source": [
        "def moving_average(x, w):\n",
        "    return np.convolve(x, np.ones(w), 'valid') / w\n",
        "\n",
        "fig = go.FigureWidget(\n",
        "    data=[go.Scatter(x=np.arange(len(total_rewards)), y=moving_average(total_rewards, 100))],\n",
        "    layout=go.Layout(title=\"Total Rewards\", template=\"presentation\")\n",
        ")\n",
        "fig.show()"
      ]
    }
  ],
  "metadata": {
    "kernelspec": {
      "display_name": "Python 3",
      "language": "python",
      "name": "python3"
    },
    "language_info": {
      "codemirror_mode": {
        "name": "ipython",
        "version": 3
      },
      "file_extension": ".py",
      "mimetype": "text/x-python",
      "name": "python",
      "nbconvert_exporter": "python",
      "pygments_lexer": "ipython3",
      "version": "3.6.8"
    },
    "colab": {
      "provenance": []
    },
    "widgets": {
      "application/vnd.jupyter.widget-state+json": {
        "1f86373d2ac34b999b9c8b62fa1fa2b8": {
          "model_module": "@jupyter-widgets/controls",
          "model_name": "VBoxModel",
          "model_module_version": "1.5.0",
          "state": {
            "_dom_classes": [],
            "_model_module": "@jupyter-widgets/controls",
            "_model_module_version": "1.5.0",
            "_model_name": "VBoxModel",
            "_view_count": null,
            "_view_module": "@jupyter-widgets/controls",
            "_view_module_version": "1.5.0",
            "_view_name": "VBoxView",
            "box_style": "",
            "children": [
              "IPY_MODEL_b5a7a44f3f2348959f7295c63564351a",
              "IPY_MODEL_fa38fa2caa2e444b8d8a48832ebeccd0",
              "IPY_MODEL_5b00335efaa34ce0a78e9876ac0024c3"
            ],
            "layout": "IPY_MODEL_14120fc6d5dd443eac6d63cbb953e12a"
          }
        },
        "b5a7a44f3f2348959f7295c63564351a": {
          "model_module": "@jupyter-widgets/controls",
          "model_name": "HBoxModel",
          "model_module_version": "1.5.0",
          "state": {
            "_dom_classes": [],
            "_model_module": "@jupyter-widgets/controls",
            "_model_module_version": "1.5.0",
            "_model_name": "HBoxModel",
            "_view_count": null,
            "_view_module": "@jupyter-widgets/controls",
            "_view_module_version": "1.5.0",
            "_view_name": "HBoxView",
            "box_style": "",
            "children": [
              "IPY_MODEL_8523aa6f6af14172815ffa677369a385",
              "IPY_MODEL_bb69ebae6aa74376a57a3995c5da3dc8"
            ],
            "layout": "IPY_MODEL_853dd8b07c5e4c9d9403f229b2e3e34f"
          }
        },
        "fa38fa2caa2e444b8d8a48832ebeccd0": {
          "model_module": "@jupyter-widgets/controls",
          "model_name": "HBoxModel",
          "model_module_version": "1.5.0",
          "state": {
            "_dom_classes": [],
            "_model_module": "@jupyter-widgets/controls",
            "_model_module_version": "1.5.0",
            "_model_name": "HBoxModel",
            "_view_count": null,
            "_view_module": "@jupyter-widgets/controls",
            "_view_module_version": "1.5.0",
            "_view_name": "HBoxView",
            "box_style": "",
            "children": [
              "IPY_MODEL_751350a99128489bbb557128d45d809c",
              "IPY_MODEL_16b1ec86c91c4f589d62d736ca033381",
              "IPY_MODEL_518cd5364092456899382f00ae2d8c8c"
            ],
            "layout": "IPY_MODEL_6a1e94d211e74c4abe870667020b4d1f"
          }
        },
        "5b00335efaa34ce0a78e9876ac0024c3": {
          "model_module": "@jupyter-widgets/output",
          "model_name": "OutputModel",
          "model_module_version": "1.0.0",
          "state": {
            "_dom_classes": [],
            "_model_module": "@jupyter-widgets/output",
            "_model_module_version": "1.0.0",
            "_model_name": "OutputModel",
            "_view_count": null,
            "_view_module": "@jupyter-widgets/output",
            "_view_module_version": "1.0.0",
            "_view_name": "OutputView",
            "layout": "IPY_MODEL_a2096bc508694258b1caf95a6c197277",
            "msg_id": "",
            "outputs": []
          }
        },
        "14120fc6d5dd443eac6d63cbb953e12a": {
          "model_module": "@jupyter-widgets/base",
          "model_name": "LayoutModel",
          "model_module_version": "1.2.0",
          "state": {
            "_model_module": "@jupyter-widgets/base",
            "_model_module_version": "1.2.0",
            "_model_name": "LayoutModel",
            "_view_count": null,
            "_view_module": "@jupyter-widgets/base",
            "_view_module_version": "1.2.0",
            "_view_name": "LayoutView",
            "align_content": null,
            "align_items": null,
            "align_self": null,
            "border": null,
            "bottom": null,
            "display": null,
            "flex": null,
            "flex_flow": null,
            "grid_area": null,
            "grid_auto_columns": null,
            "grid_auto_flow": null,
            "grid_auto_rows": null,
            "grid_column": null,
            "grid_gap": null,
            "grid_row": null,
            "grid_template_areas": null,
            "grid_template_columns": null,
            "grid_template_rows": null,
            "height": null,
            "justify_content": null,
            "justify_items": null,
            "left": null,
            "margin": null,
            "max_height": null,
            "max_width": null,
            "min_height": null,
            "min_width": null,
            "object_fit": null,
            "object_position": null,
            "order": null,
            "overflow": null,
            "overflow_x": null,
            "overflow_y": null,
            "padding": null,
            "right": null,
            "top": null,
            "visibility": null,
            "width": null
          }
        },
        "8523aa6f6af14172815ffa677369a385": {
          "model_module": "jupyterlab-plotly",
          "model_name": "FigureModel",
          "model_module_version": "^5.15.0",
          "state": {
            "_config": {
              "plotlyServerURL": "https://plot.ly"
            },
            "_data": [
              {
                "x": [
                  "$\\pi(s_0, a_0)$",
                  "$\\pi(s_0, a_1)$",
                  "$\\pi(s_0, a_2)$"
                ],
                "y": {
                  "dtype": "float64",
                  "shape": [
                    3
                  ]
                },
                "type": "bar",
                "uid": "f520e852-2692-457b-a2aa-d5b5417f5bcb"
              }
            ],
            "_dom_classes": [],
            "_js2py_layoutDelta": null,
            "_js2py_pointsCallback": null,
            "_js2py_relayout": null,
            "_js2py_restyle": {},
            "_js2py_traceDeltas": null,
            "_js2py_update": {},
            "_last_layout_edit_id": 4,
            "_last_trace_edit_id": 3,
            "_layout": {
              "template": {
                "data": {
                  "barpolar": [
                    {
                      "marker": {
                        "line": {
                          "color": "rgb(17,17,17)",
                          "width": 0.5
                        },
                        "pattern": {
                          "fillmode": "overlay",
                          "size": 10,
                          "solidity": 0.2
                        }
                      },
                      "type": "barpolar"
                    }
                  ],
                  "bar": [
                    {
                      "error_x": {
                        "color": "#f2f5fa"
                      },
                      "error_y": {
                        "color": "#f2f5fa"
                      },
                      "marker": {
                        "line": {
                          "color": "rgb(17,17,17)",
                          "width": 0.5
                        },
                        "pattern": {
                          "fillmode": "overlay",
                          "size": 10,
                          "solidity": 0.2
                        }
                      },
                      "type": "bar"
                    }
                  ],
                  "carpet": [
                    {
                      "aaxis": {
                        "endlinecolor": "#A2B1C6",
                        "gridcolor": "#506784",
                        "linecolor": "#506784",
                        "minorgridcolor": "#506784",
                        "startlinecolor": "#A2B1C6"
                      },
                      "baxis": {
                        "endlinecolor": "#A2B1C6",
                        "gridcolor": "#506784",
                        "linecolor": "#506784",
                        "minorgridcolor": "#506784",
                        "startlinecolor": "#A2B1C6"
                      },
                      "type": "carpet"
                    }
                  ],
                  "choropleth": [
                    {
                      "colorbar": {
                        "outlinewidth": 0,
                        "ticks": ""
                      },
                      "type": "choropleth"
                    }
                  ],
                  "contourcarpet": [
                    {
                      "colorbar": {
                        "outlinewidth": 0,
                        "ticks": ""
                      },
                      "type": "contourcarpet"
                    }
                  ],
                  "contour": [
                    {
                      "colorbar": {
                        "outlinewidth": 0,
                        "ticks": ""
                      },
                      "colorscale": [
                        [
                          0,
                          "#0d0887"
                        ],
                        [
                          0.1111111111111111,
                          "#46039f"
                        ],
                        [
                          0.2222222222222222,
                          "#7201a8"
                        ],
                        [
                          0.3333333333333333,
                          "#9c179e"
                        ],
                        [
                          0.4444444444444444,
                          "#bd3786"
                        ],
                        [
                          0.5555555555555556,
                          "#d8576b"
                        ],
                        [
                          0.6666666666666666,
                          "#ed7953"
                        ],
                        [
                          0.7777777777777778,
                          "#fb9f3a"
                        ],
                        [
                          0.8888888888888888,
                          "#fdca26"
                        ],
                        [
                          1,
                          "#f0f921"
                        ]
                      ],
                      "type": "contour"
                    }
                  ],
                  "heatmapgl": [
                    {
                      "colorbar": {
                        "outlinewidth": 0,
                        "ticks": ""
                      },
                      "colorscale": [
                        [
                          0,
                          "#0d0887"
                        ],
                        [
                          0.1111111111111111,
                          "#46039f"
                        ],
                        [
                          0.2222222222222222,
                          "#7201a8"
                        ],
                        [
                          0.3333333333333333,
                          "#9c179e"
                        ],
                        [
                          0.4444444444444444,
                          "#bd3786"
                        ],
                        [
                          0.5555555555555556,
                          "#d8576b"
                        ],
                        [
                          0.6666666666666666,
                          "#ed7953"
                        ],
                        [
                          0.7777777777777778,
                          "#fb9f3a"
                        ],
                        [
                          0.8888888888888888,
                          "#fdca26"
                        ],
                        [
                          1,
                          "#f0f921"
                        ]
                      ],
                      "type": "heatmapgl"
                    }
                  ],
                  "heatmap": [
                    {
                      "colorbar": {
                        "outlinewidth": 0,
                        "ticks": ""
                      },
                      "colorscale": [
                        [
                          0,
                          "#0d0887"
                        ],
                        [
                          0.1111111111111111,
                          "#46039f"
                        ],
                        [
                          0.2222222222222222,
                          "#7201a8"
                        ],
                        [
                          0.3333333333333333,
                          "#9c179e"
                        ],
                        [
                          0.4444444444444444,
                          "#bd3786"
                        ],
                        [
                          0.5555555555555556,
                          "#d8576b"
                        ],
                        [
                          0.6666666666666666,
                          "#ed7953"
                        ],
                        [
                          0.7777777777777778,
                          "#fb9f3a"
                        ],
                        [
                          0.8888888888888888,
                          "#fdca26"
                        ],
                        [
                          1,
                          "#f0f921"
                        ]
                      ],
                      "type": "heatmap"
                    }
                  ],
                  "histogram2dcontour": [
                    {
                      "colorbar": {
                        "outlinewidth": 0,
                        "ticks": ""
                      },
                      "colorscale": [
                        [
                          0,
                          "#0d0887"
                        ],
                        [
                          0.1111111111111111,
                          "#46039f"
                        ],
                        [
                          0.2222222222222222,
                          "#7201a8"
                        ],
                        [
                          0.3333333333333333,
                          "#9c179e"
                        ],
                        [
                          0.4444444444444444,
                          "#bd3786"
                        ],
                        [
                          0.5555555555555556,
                          "#d8576b"
                        ],
                        [
                          0.6666666666666666,
                          "#ed7953"
                        ],
                        [
                          0.7777777777777778,
                          "#fb9f3a"
                        ],
                        [
                          0.8888888888888888,
                          "#fdca26"
                        ],
                        [
                          1,
                          "#f0f921"
                        ]
                      ],
                      "type": "histogram2dcontour"
                    }
                  ],
                  "histogram2d": [
                    {
                      "colorbar": {
                        "outlinewidth": 0,
                        "ticks": ""
                      },
                      "colorscale": [
                        [
                          0,
                          "#0d0887"
                        ],
                        [
                          0.1111111111111111,
                          "#46039f"
                        ],
                        [
                          0.2222222222222222,
                          "#7201a8"
                        ],
                        [
                          0.3333333333333333,
                          "#9c179e"
                        ],
                        [
                          0.4444444444444444,
                          "#bd3786"
                        ],
                        [
                          0.5555555555555556,
                          "#d8576b"
                        ],
                        [
                          0.6666666666666666,
                          "#ed7953"
                        ],
                        [
                          0.7777777777777778,
                          "#fb9f3a"
                        ],
                        [
                          0.8888888888888888,
                          "#fdca26"
                        ],
                        [
                          1,
                          "#f0f921"
                        ]
                      ],
                      "type": "histogram2d"
                    }
                  ],
                  "histogram": [
                    {
                      "marker": {
                        "pattern": {
                          "fillmode": "overlay",
                          "size": 10,
                          "solidity": 0.2
                        }
                      },
                      "type": "histogram"
                    }
                  ],
                  "mesh3d": [
                    {
                      "colorbar": {
                        "outlinewidth": 0,
                        "ticks": ""
                      },
                      "type": "mesh3d"
                    }
                  ],
                  "parcoords": [
                    {
                      "line": {
                        "colorbar": {
                          "outlinewidth": 0,
                          "ticks": ""
                        }
                      },
                      "type": "parcoords"
                    }
                  ],
                  "pie": [
                    {
                      "automargin": true,
                      "type": "pie"
                    }
                  ],
                  "scatter3d": [
                    {
                      "line": {
                        "colorbar": {
                          "outlinewidth": 0,
                          "ticks": ""
                        },
                        "width": 3
                      },
                      "marker": {
                        "colorbar": {
                          "outlinewidth": 0,
                          "ticks": ""
                        },
                        "size": 9
                      },
                      "type": "scatter3d"
                    }
                  ],
                  "scattercarpet": [
                    {
                      "marker": {
                        "colorbar": {
                          "outlinewidth": 0,
                          "ticks": ""
                        }
                      },
                      "type": "scattercarpet"
                    }
                  ],
                  "scattergeo": [
                    {
                      "line": {
                        "width": 3
                      },
                      "marker": {
                        "colorbar": {
                          "outlinewidth": 0,
                          "ticks": ""
                        },
                        "size": 9
                      },
                      "type": "scattergeo"
                    }
                  ],
                  "scattergl": [
                    {
                      "line": {
                        "width": 3
                      },
                      "marker": {
                        "line": {
                          "color": "#283442"
                        },
                        "size": 9
                      },
                      "type": "scattergl"
                    }
                  ],
                  "scattermapbox": [
                    {
                      "marker": {
                        "colorbar": {
                          "outlinewidth": 0,
                          "ticks": ""
                        }
                      },
                      "type": "scattermapbox"
                    }
                  ],
                  "scatterpolargl": [
                    {
                      "line": {
                        "width": 3
                      },
                      "marker": {
                        "colorbar": {
                          "outlinewidth": 0,
                          "ticks": ""
                        },
                        "size": 9
                      },
                      "type": "scatterpolargl"
                    }
                  ],
                  "scatterpolar": [
                    {
                      "line": {
                        "width": 3
                      },
                      "marker": {
                        "colorbar": {
                          "outlinewidth": 0,
                          "ticks": ""
                        },
                        "size": 9
                      },
                      "type": "scatterpolar"
                    }
                  ],
                  "scatter": [
                    {
                      "line": {
                        "width": 3
                      },
                      "marker": {
                        "line": {
                          "color": "#283442"
                        },
                        "size": 9
                      },
                      "type": "scatter"
                    }
                  ],
                  "scatterternary": [
                    {
                      "line": {
                        "width": 3
                      },
                      "marker": {
                        "colorbar": {
                          "outlinewidth": 0,
                          "ticks": ""
                        },
                        "size": 9
                      },
                      "type": "scatterternary"
                    }
                  ],
                  "surface": [
                    {
                      "colorbar": {
                        "outlinewidth": 0,
                        "ticks": ""
                      },
                      "colorscale": [
                        [
                          0,
                          "#0d0887"
                        ],
                        [
                          0.1111111111111111,
                          "#46039f"
                        ],
                        [
                          0.2222222222222222,
                          "#7201a8"
                        ],
                        [
                          0.3333333333333333,
                          "#9c179e"
                        ],
                        [
                          0.4444444444444444,
                          "#bd3786"
                        ],
                        [
                          0.5555555555555556,
                          "#d8576b"
                        ],
                        [
                          0.6666666666666666,
                          "#ed7953"
                        ],
                        [
                          0.7777777777777778,
                          "#fb9f3a"
                        ],
                        [
                          0.8888888888888888,
                          "#fdca26"
                        ],
                        [
                          1,
                          "#f0f921"
                        ]
                      ],
                      "type": "surface"
                    }
                  ],
                  "table": [
                    {
                      "cells": {
                        "fill": {
                          "color": "#506784"
                        },
                        "height": 30,
                        "line": {
                          "color": "rgb(17,17,17)"
                        }
                      },
                      "header": {
                        "fill": {
                          "color": "#2a3f5f"
                        },
                        "height": 36,
                        "line": {
                          "color": "rgb(17,17,17)"
                        }
                      },
                      "type": "table"
                    }
                  ]
                },
                "layout": {
                  "annotationdefaults": {
                    "arrowcolor": "#f2f5fa",
                    "arrowhead": 0,
                    "arrowwidth": 1
                  },
                  "autotypenumbers": "strict",
                  "coloraxis": {
                    "colorbar": {
                      "outlinewidth": 0,
                      "ticks": ""
                    }
                  },
                  "colorscale": {
                    "diverging": [
                      [
                        0,
                        "#8e0152"
                      ],
                      [
                        0.1,
                        "#c51b7d"
                      ],
                      [
                        0.2,
                        "#de77ae"
                      ],
                      [
                        0.3,
                        "#f1b6da"
                      ],
                      [
                        0.4,
                        "#fde0ef"
                      ],
                      [
                        0.5,
                        "#f7f7f7"
                      ],
                      [
                        0.6,
                        "#e6f5d0"
                      ],
                      [
                        0.7,
                        "#b8e186"
                      ],
                      [
                        0.8,
                        "#7fbc41"
                      ],
                      [
                        0.9,
                        "#4d9221"
                      ],
                      [
                        1,
                        "#276419"
                      ]
                    ],
                    "sequential": [
                      [
                        0,
                        "#0d0887"
                      ],
                      [
                        0.1111111111111111,
                        "#46039f"
                      ],
                      [
                        0.2222222222222222,
                        "#7201a8"
                      ],
                      [
                        0.3333333333333333,
                        "#9c179e"
                      ],
                      [
                        0.4444444444444444,
                        "#bd3786"
                      ],
                      [
                        0.5555555555555556,
                        "#d8576b"
                      ],
                      [
                        0.6666666666666666,
                        "#ed7953"
                      ],
                      [
                        0.7777777777777778,
                        "#fb9f3a"
                      ],
                      [
                        0.8888888888888888,
                        "#fdca26"
                      ],
                      [
                        1,
                        "#f0f921"
                      ]
                    ],
                    "sequentialminus": [
                      [
                        0,
                        "#0d0887"
                      ],
                      [
                        0.1111111111111111,
                        "#46039f"
                      ],
                      [
                        0.2222222222222222,
                        "#7201a8"
                      ],
                      [
                        0.3333333333333333,
                        "#9c179e"
                      ],
                      [
                        0.4444444444444444,
                        "#bd3786"
                      ],
                      [
                        0.5555555555555556,
                        "#d8576b"
                      ],
                      [
                        0.6666666666666666,
                        "#ed7953"
                      ],
                      [
                        0.7777777777777778,
                        "#fb9f3a"
                      ],
                      [
                        0.8888888888888888,
                        "#fdca26"
                      ],
                      [
                        1,
                        "#f0f921"
                      ]
                    ]
                  },
                  "colorway": [
                    "#636efa",
                    "#EF553B",
                    "#00cc96",
                    "#ab63fa",
                    "#FFA15A",
                    "#19d3f3",
                    "#FF6692",
                    "#B6E880",
                    "#FF97FF",
                    "#FECB52"
                  ],
                  "font": {
                    "color": "#f2f5fa",
                    "size": 18
                  },
                  "geo": {
                    "bgcolor": "rgb(17,17,17)",
                    "lakecolor": "rgb(17,17,17)",
                    "landcolor": "rgb(17,17,17)",
                    "showlakes": true,
                    "showland": true,
                    "subunitcolor": "#506784"
                  },
                  "hoverlabel": {
                    "align": "left"
                  },
                  "hovermode": "closest",
                  "mapbox": {
                    "style": "dark"
                  },
                  "paper_bgcolor": "rgb(17,17,17)",
                  "plot_bgcolor": "rgb(17,17,17)",
                  "polar": {
                    "angularaxis": {
                      "gridcolor": "#506784",
                      "linecolor": "#506784",
                      "ticks": ""
                    },
                    "bgcolor": "rgb(17,17,17)",
                    "radialaxis": {
                      "gridcolor": "#506784",
                      "linecolor": "#506784",
                      "ticks": ""
                    }
                  },
                  "scene": {
                    "xaxis": {
                      "backgroundcolor": "rgb(17,17,17)",
                      "gridcolor": "#506784",
                      "gridwidth": 2,
                      "linecolor": "#506784",
                      "showbackground": true,
                      "ticks": "",
                      "zerolinecolor": "#C8D4E3"
                    },
                    "yaxis": {
                      "backgroundcolor": "rgb(17,17,17)",
                      "gridcolor": "#506784",
                      "gridwidth": 2,
                      "linecolor": "#506784",
                      "showbackground": true,
                      "ticks": "",
                      "zerolinecolor": "#C8D4E3"
                    },
                    "zaxis": {
                      "backgroundcolor": "rgb(17,17,17)",
                      "gridcolor": "#506784",
                      "gridwidth": 2,
                      "linecolor": "#506784",
                      "showbackground": true,
                      "ticks": "",
                      "zerolinecolor": "#C8D4E3"
                    }
                  },
                  "shapedefaults": {
                    "line": {
                      "color": "#f2f5fa"
                    }
                  },
                  "sliderdefaults": {
                    "bgcolor": "#C8D4E3",
                    "bordercolor": "rgb(17,17,17)",
                    "borderwidth": 1,
                    "tickwidth": 0
                  },
                  "ternary": {
                    "aaxis": {
                      "gridcolor": "#506784",
                      "linecolor": "#506784",
                      "ticks": ""
                    },
                    "baxis": {
                      "gridcolor": "#506784",
                      "linecolor": "#506784",
                      "ticks": ""
                    },
                    "bgcolor": "rgb(17,17,17)",
                    "caxis": {
                      "gridcolor": "#506784",
                      "linecolor": "#506784",
                      "ticks": ""
                    }
                  },
                  "title": {
                    "x": 0.05
                  },
                  "updatemenudefaults": {
                    "bgcolor": "#506784",
                    "borderwidth": 0
                  },
                  "xaxis": {
                    "automargin": true,
                    "gridcolor": "#283442",
                    "linecolor": "#506784",
                    "ticks": "",
                    "title": {
                      "standoff": 15
                    },
                    "zerolinecolor": "#283442",
                    "zerolinewidth": 2
                  },
                  "yaxis": {
                    "automargin": true,
                    "gridcolor": "#283442",
                    "linecolor": "#506784",
                    "ticks": "",
                    "title": {
                      "standoff": 15
                    },
                    "zerolinecolor": "#283442",
                    "zerolinewidth": 2
                  }
                }
              },
              "title": {
                "text": "$\\pi(s_0,a)$"
              },
              "yaxis": {
                "range": [
                  0,
                  1
                ]
              }
            },
            "_model_module": "jupyterlab-plotly",
            "_model_module_version": "^5.15.0",
            "_model_name": "FigureModel",
            "_py2js_addTraces": {},
            "_py2js_animate": {},
            "_py2js_deleteTraces": {},
            "_py2js_moveTraces": {},
            "_py2js_relayout": null,
            "_py2js_removeLayoutProps": {},
            "_py2js_removeTraceProps": {},
            "_py2js_restyle": null,
            "_py2js_update": {},
            "_view_count": 1,
            "_view_module": "jupyterlab-plotly",
            "_view_module_version": "^5.15.0",
            "_view_name": "FigureView"
          }
        },
        "bb69ebae6aa74376a57a3995c5da3dc8": {
          "model_module": "jupyterlab-plotly",
          "model_name": "FigureModel",
          "model_module_version": "^5.15.0",
          "state": {
            "_config": {
              "plotlyServerURL": "https://plot.ly"
            },
            "_data": [
              {
                "x": [
                  "$f_w(s_0, a_0)$",
                  "$f_w(s_0, a_1)$",
                  "$f_w(s_0, a_2)$"
                ],
                "y": {
                  "dtype": "float64",
                  "shape": [
                    3
                  ]
                },
                "type": "bar",
                "uid": "5e2483d8-072b-4293-99c5-5d6acd56b069"
              }
            ],
            "_dom_classes": [],
            "_js2py_layoutDelta": null,
            "_js2py_pointsCallback": {},
            "_js2py_relayout": null,
            "_js2py_restyle": {},
            "_js2py_traceDeltas": null,
            "_js2py_update": {},
            "_last_layout_edit_id": 1,
            "_last_trace_edit_id": 0,
            "_layout": {
              "template": {
                "data": {
                  "barpolar": [
                    {
                      "marker": {
                        "line": {
                          "color": "rgb(17,17,17)",
                          "width": 0.5
                        },
                        "pattern": {
                          "fillmode": "overlay",
                          "size": 10,
                          "solidity": 0.2
                        }
                      },
                      "type": "barpolar"
                    }
                  ],
                  "bar": [
                    {
                      "error_x": {
                        "color": "#f2f5fa"
                      },
                      "error_y": {
                        "color": "#f2f5fa"
                      },
                      "marker": {
                        "line": {
                          "color": "rgb(17,17,17)",
                          "width": 0.5
                        },
                        "pattern": {
                          "fillmode": "overlay",
                          "size": 10,
                          "solidity": 0.2
                        }
                      },
                      "type": "bar"
                    }
                  ],
                  "carpet": [
                    {
                      "aaxis": {
                        "endlinecolor": "#A2B1C6",
                        "gridcolor": "#506784",
                        "linecolor": "#506784",
                        "minorgridcolor": "#506784",
                        "startlinecolor": "#A2B1C6"
                      },
                      "baxis": {
                        "endlinecolor": "#A2B1C6",
                        "gridcolor": "#506784",
                        "linecolor": "#506784",
                        "minorgridcolor": "#506784",
                        "startlinecolor": "#A2B1C6"
                      },
                      "type": "carpet"
                    }
                  ],
                  "choropleth": [
                    {
                      "colorbar": {
                        "outlinewidth": 0,
                        "ticks": ""
                      },
                      "type": "choropleth"
                    }
                  ],
                  "contourcarpet": [
                    {
                      "colorbar": {
                        "outlinewidth": 0,
                        "ticks": ""
                      },
                      "type": "contourcarpet"
                    }
                  ],
                  "contour": [
                    {
                      "colorbar": {
                        "outlinewidth": 0,
                        "ticks": ""
                      },
                      "colorscale": [
                        [
                          0,
                          "#0d0887"
                        ],
                        [
                          0.1111111111111111,
                          "#46039f"
                        ],
                        [
                          0.2222222222222222,
                          "#7201a8"
                        ],
                        [
                          0.3333333333333333,
                          "#9c179e"
                        ],
                        [
                          0.4444444444444444,
                          "#bd3786"
                        ],
                        [
                          0.5555555555555556,
                          "#d8576b"
                        ],
                        [
                          0.6666666666666666,
                          "#ed7953"
                        ],
                        [
                          0.7777777777777778,
                          "#fb9f3a"
                        ],
                        [
                          0.8888888888888888,
                          "#fdca26"
                        ],
                        [
                          1,
                          "#f0f921"
                        ]
                      ],
                      "type": "contour"
                    }
                  ],
                  "heatmapgl": [
                    {
                      "colorbar": {
                        "outlinewidth": 0,
                        "ticks": ""
                      },
                      "colorscale": [
                        [
                          0,
                          "#0d0887"
                        ],
                        [
                          0.1111111111111111,
                          "#46039f"
                        ],
                        [
                          0.2222222222222222,
                          "#7201a8"
                        ],
                        [
                          0.3333333333333333,
                          "#9c179e"
                        ],
                        [
                          0.4444444444444444,
                          "#bd3786"
                        ],
                        [
                          0.5555555555555556,
                          "#d8576b"
                        ],
                        [
                          0.6666666666666666,
                          "#ed7953"
                        ],
                        [
                          0.7777777777777778,
                          "#fb9f3a"
                        ],
                        [
                          0.8888888888888888,
                          "#fdca26"
                        ],
                        [
                          1,
                          "#f0f921"
                        ]
                      ],
                      "type": "heatmapgl"
                    }
                  ],
                  "heatmap": [
                    {
                      "colorbar": {
                        "outlinewidth": 0,
                        "ticks": ""
                      },
                      "colorscale": [
                        [
                          0,
                          "#0d0887"
                        ],
                        [
                          0.1111111111111111,
                          "#46039f"
                        ],
                        [
                          0.2222222222222222,
                          "#7201a8"
                        ],
                        [
                          0.3333333333333333,
                          "#9c179e"
                        ],
                        [
                          0.4444444444444444,
                          "#bd3786"
                        ],
                        [
                          0.5555555555555556,
                          "#d8576b"
                        ],
                        [
                          0.6666666666666666,
                          "#ed7953"
                        ],
                        [
                          0.7777777777777778,
                          "#fb9f3a"
                        ],
                        [
                          0.8888888888888888,
                          "#fdca26"
                        ],
                        [
                          1,
                          "#f0f921"
                        ]
                      ],
                      "type": "heatmap"
                    }
                  ],
                  "histogram2dcontour": [
                    {
                      "colorbar": {
                        "outlinewidth": 0,
                        "ticks": ""
                      },
                      "colorscale": [
                        [
                          0,
                          "#0d0887"
                        ],
                        [
                          0.1111111111111111,
                          "#46039f"
                        ],
                        [
                          0.2222222222222222,
                          "#7201a8"
                        ],
                        [
                          0.3333333333333333,
                          "#9c179e"
                        ],
                        [
                          0.4444444444444444,
                          "#bd3786"
                        ],
                        [
                          0.5555555555555556,
                          "#d8576b"
                        ],
                        [
                          0.6666666666666666,
                          "#ed7953"
                        ],
                        [
                          0.7777777777777778,
                          "#fb9f3a"
                        ],
                        [
                          0.8888888888888888,
                          "#fdca26"
                        ],
                        [
                          1,
                          "#f0f921"
                        ]
                      ],
                      "type": "histogram2dcontour"
                    }
                  ],
                  "histogram2d": [
                    {
                      "colorbar": {
                        "outlinewidth": 0,
                        "ticks": ""
                      },
                      "colorscale": [
                        [
                          0,
                          "#0d0887"
                        ],
                        [
                          0.1111111111111111,
                          "#46039f"
                        ],
                        [
                          0.2222222222222222,
                          "#7201a8"
                        ],
                        [
                          0.3333333333333333,
                          "#9c179e"
                        ],
                        [
                          0.4444444444444444,
                          "#bd3786"
                        ],
                        [
                          0.5555555555555556,
                          "#d8576b"
                        ],
                        [
                          0.6666666666666666,
                          "#ed7953"
                        ],
                        [
                          0.7777777777777778,
                          "#fb9f3a"
                        ],
                        [
                          0.8888888888888888,
                          "#fdca26"
                        ],
                        [
                          1,
                          "#f0f921"
                        ]
                      ],
                      "type": "histogram2d"
                    }
                  ],
                  "histogram": [
                    {
                      "marker": {
                        "pattern": {
                          "fillmode": "overlay",
                          "size": 10,
                          "solidity": 0.2
                        }
                      },
                      "type": "histogram"
                    }
                  ],
                  "mesh3d": [
                    {
                      "colorbar": {
                        "outlinewidth": 0,
                        "ticks": ""
                      },
                      "type": "mesh3d"
                    }
                  ],
                  "parcoords": [
                    {
                      "line": {
                        "colorbar": {
                          "outlinewidth": 0,
                          "ticks": ""
                        }
                      },
                      "type": "parcoords"
                    }
                  ],
                  "pie": [
                    {
                      "automargin": true,
                      "type": "pie"
                    }
                  ],
                  "scatter3d": [
                    {
                      "line": {
                        "colorbar": {
                          "outlinewidth": 0,
                          "ticks": ""
                        },
                        "width": 3
                      },
                      "marker": {
                        "colorbar": {
                          "outlinewidth": 0,
                          "ticks": ""
                        },
                        "size": 9
                      },
                      "type": "scatter3d"
                    }
                  ],
                  "scattercarpet": [
                    {
                      "marker": {
                        "colorbar": {
                          "outlinewidth": 0,
                          "ticks": ""
                        }
                      },
                      "type": "scattercarpet"
                    }
                  ],
                  "scattergeo": [
                    {
                      "line": {
                        "width": 3
                      },
                      "marker": {
                        "colorbar": {
                          "outlinewidth": 0,
                          "ticks": ""
                        },
                        "size": 9
                      },
                      "type": "scattergeo"
                    }
                  ],
                  "scattergl": [
                    {
                      "line": {
                        "width": 3
                      },
                      "marker": {
                        "line": {
                          "color": "#283442"
                        },
                        "size": 9
                      },
                      "type": "scattergl"
                    }
                  ],
                  "scattermapbox": [
                    {
                      "marker": {
                        "colorbar": {
                          "outlinewidth": 0,
                          "ticks": ""
                        }
                      },
                      "type": "scattermapbox"
                    }
                  ],
                  "scatterpolargl": [
                    {
                      "line": {
                        "width": 3
                      },
                      "marker": {
                        "colorbar": {
                          "outlinewidth": 0,
                          "ticks": ""
                        },
                        "size": 9
                      },
                      "type": "scatterpolargl"
                    }
                  ],
                  "scatterpolar": [
                    {
                      "line": {
                        "width": 3
                      },
                      "marker": {
                        "colorbar": {
                          "outlinewidth": 0,
                          "ticks": ""
                        },
                        "size": 9
                      },
                      "type": "scatterpolar"
                    }
                  ],
                  "scatter": [
                    {
                      "line": {
                        "width": 3
                      },
                      "marker": {
                        "line": {
                          "color": "#283442"
                        },
                        "size": 9
                      },
                      "type": "scatter"
                    }
                  ],
                  "scatterternary": [
                    {
                      "line": {
                        "width": 3
                      },
                      "marker": {
                        "colorbar": {
                          "outlinewidth": 0,
                          "ticks": ""
                        },
                        "size": 9
                      },
                      "type": "scatterternary"
                    }
                  ],
                  "surface": [
                    {
                      "colorbar": {
                        "outlinewidth": 0,
                        "ticks": ""
                      },
                      "colorscale": [
                        [
                          0,
                          "#0d0887"
                        ],
                        [
                          0.1111111111111111,
                          "#46039f"
                        ],
                        [
                          0.2222222222222222,
                          "#7201a8"
                        ],
                        [
                          0.3333333333333333,
                          "#9c179e"
                        ],
                        [
                          0.4444444444444444,
                          "#bd3786"
                        ],
                        [
                          0.5555555555555556,
                          "#d8576b"
                        ],
                        [
                          0.6666666666666666,
                          "#ed7953"
                        ],
                        [
                          0.7777777777777778,
                          "#fb9f3a"
                        ],
                        [
                          0.8888888888888888,
                          "#fdca26"
                        ],
                        [
                          1,
                          "#f0f921"
                        ]
                      ],
                      "type": "surface"
                    }
                  ],
                  "table": [
                    {
                      "cells": {
                        "fill": {
                          "color": "#506784"
                        },
                        "height": 30,
                        "line": {
                          "color": "rgb(17,17,17)"
                        }
                      },
                      "header": {
                        "fill": {
                          "color": "#2a3f5f"
                        },
                        "height": 36,
                        "line": {
                          "color": "rgb(17,17,17)"
                        }
                      },
                      "type": "table"
                    }
                  ]
                },
                "layout": {
                  "annotationdefaults": {
                    "arrowcolor": "#f2f5fa",
                    "arrowhead": 0,
                    "arrowwidth": 1
                  },
                  "autotypenumbers": "strict",
                  "coloraxis": {
                    "colorbar": {
                      "outlinewidth": 0,
                      "ticks": ""
                    }
                  },
                  "colorscale": {
                    "diverging": [
                      [
                        0,
                        "#8e0152"
                      ],
                      [
                        0.1,
                        "#c51b7d"
                      ],
                      [
                        0.2,
                        "#de77ae"
                      ],
                      [
                        0.3,
                        "#f1b6da"
                      ],
                      [
                        0.4,
                        "#fde0ef"
                      ],
                      [
                        0.5,
                        "#f7f7f7"
                      ],
                      [
                        0.6,
                        "#e6f5d0"
                      ],
                      [
                        0.7,
                        "#b8e186"
                      ],
                      [
                        0.8,
                        "#7fbc41"
                      ],
                      [
                        0.9,
                        "#4d9221"
                      ],
                      [
                        1,
                        "#276419"
                      ]
                    ],
                    "sequential": [
                      [
                        0,
                        "#0d0887"
                      ],
                      [
                        0.1111111111111111,
                        "#46039f"
                      ],
                      [
                        0.2222222222222222,
                        "#7201a8"
                      ],
                      [
                        0.3333333333333333,
                        "#9c179e"
                      ],
                      [
                        0.4444444444444444,
                        "#bd3786"
                      ],
                      [
                        0.5555555555555556,
                        "#d8576b"
                      ],
                      [
                        0.6666666666666666,
                        "#ed7953"
                      ],
                      [
                        0.7777777777777778,
                        "#fb9f3a"
                      ],
                      [
                        0.8888888888888888,
                        "#fdca26"
                      ],
                      [
                        1,
                        "#f0f921"
                      ]
                    ],
                    "sequentialminus": [
                      [
                        0,
                        "#0d0887"
                      ],
                      [
                        0.1111111111111111,
                        "#46039f"
                      ],
                      [
                        0.2222222222222222,
                        "#7201a8"
                      ],
                      [
                        0.3333333333333333,
                        "#9c179e"
                      ],
                      [
                        0.4444444444444444,
                        "#bd3786"
                      ],
                      [
                        0.5555555555555556,
                        "#d8576b"
                      ],
                      [
                        0.6666666666666666,
                        "#ed7953"
                      ],
                      [
                        0.7777777777777778,
                        "#fb9f3a"
                      ],
                      [
                        0.8888888888888888,
                        "#fdca26"
                      ],
                      [
                        1,
                        "#f0f921"
                      ]
                    ]
                  },
                  "colorway": [
                    "#636efa",
                    "#EF553B",
                    "#00cc96",
                    "#ab63fa",
                    "#FFA15A",
                    "#19d3f3",
                    "#FF6692",
                    "#B6E880",
                    "#FF97FF",
                    "#FECB52"
                  ],
                  "font": {
                    "color": "#f2f5fa",
                    "size": 18
                  },
                  "geo": {
                    "bgcolor": "rgb(17,17,17)",
                    "lakecolor": "rgb(17,17,17)",
                    "landcolor": "rgb(17,17,17)",
                    "showlakes": true,
                    "showland": true,
                    "subunitcolor": "#506784"
                  },
                  "hoverlabel": {
                    "align": "left"
                  },
                  "hovermode": "closest",
                  "mapbox": {
                    "style": "dark"
                  },
                  "paper_bgcolor": "rgb(17,17,17)",
                  "plot_bgcolor": "rgb(17,17,17)",
                  "polar": {
                    "angularaxis": {
                      "gridcolor": "#506784",
                      "linecolor": "#506784",
                      "ticks": ""
                    },
                    "bgcolor": "rgb(17,17,17)",
                    "radialaxis": {
                      "gridcolor": "#506784",
                      "linecolor": "#506784",
                      "ticks": ""
                    }
                  },
                  "scene": {
                    "xaxis": {
                      "backgroundcolor": "rgb(17,17,17)",
                      "gridcolor": "#506784",
                      "gridwidth": 2,
                      "linecolor": "#506784",
                      "showbackground": true,
                      "ticks": "",
                      "zerolinecolor": "#C8D4E3"
                    },
                    "yaxis": {
                      "backgroundcolor": "rgb(17,17,17)",
                      "gridcolor": "#506784",
                      "gridwidth": 2,
                      "linecolor": "#506784",
                      "showbackground": true,
                      "ticks": "",
                      "zerolinecolor": "#C8D4E3"
                    },
                    "zaxis": {
                      "backgroundcolor": "rgb(17,17,17)",
                      "gridcolor": "#506784",
                      "gridwidth": 2,
                      "linecolor": "#506784",
                      "showbackground": true,
                      "ticks": "",
                      "zerolinecolor": "#C8D4E3"
                    }
                  },
                  "shapedefaults": {
                    "line": {
                      "color": "#f2f5fa"
                    }
                  },
                  "sliderdefaults": {
                    "bgcolor": "#C8D4E3",
                    "bordercolor": "rgb(17,17,17)",
                    "borderwidth": 1,
                    "tickwidth": 0
                  },
                  "ternary": {
                    "aaxis": {
                      "gridcolor": "#506784",
                      "linecolor": "#506784",
                      "ticks": ""
                    },
                    "baxis": {
                      "gridcolor": "#506784",
                      "linecolor": "#506784",
                      "ticks": ""
                    },
                    "bgcolor": "rgb(17,17,17)",
                    "caxis": {
                      "gridcolor": "#506784",
                      "linecolor": "#506784",
                      "ticks": ""
                    }
                  },
                  "title": {
                    "x": 0.05
                  },
                  "updatemenudefaults": {
                    "bgcolor": "#506784",
                    "borderwidth": 0
                  },
                  "xaxis": {
                    "automargin": true,
                    "gridcolor": "#283442",
                    "linecolor": "#506784",
                    "ticks": "",
                    "title": {
                      "standoff": 15
                    },
                    "zerolinecolor": "#283442",
                    "zerolinewidth": 2
                  },
                  "yaxis": {
                    "automargin": true,
                    "gridcolor": "#283442",
                    "linecolor": "#506784",
                    "ticks": "",
                    "title": {
                      "standoff": 15
                    },
                    "zerolinecolor": "#283442",
                    "zerolinewidth": 2
                  }
                }
              },
              "title": {
                "text": "$$f_w(s_0, a)$$"
              }
            },
            "_model_module": "jupyterlab-plotly",
            "_model_module_version": "^5.15.0",
            "_model_name": "FigureModel",
            "_py2js_addTraces": {},
            "_py2js_animate": {},
            "_py2js_deleteTraces": {},
            "_py2js_moveTraces": {},
            "_py2js_relayout": null,
            "_py2js_removeLayoutProps": {},
            "_py2js_removeTraceProps": {},
            "_py2js_restyle": {},
            "_py2js_update": {},
            "_view_count": 1,
            "_view_module": "jupyterlab-plotly",
            "_view_module_version": "^5.15.0",
            "_view_name": "FigureView"
          }
        },
        "853dd8b07c5e4c9d9403f229b2e3e34f": {
          "model_module": "@jupyter-widgets/base",
          "model_name": "LayoutModel",
          "model_module_version": "1.2.0",
          "state": {
            "_model_module": "@jupyter-widgets/base",
            "_model_module_version": "1.2.0",
            "_model_name": "LayoutModel",
            "_view_count": null,
            "_view_module": "@jupyter-widgets/base",
            "_view_module_version": "1.2.0",
            "_view_name": "LayoutView",
            "align_content": null,
            "align_items": null,
            "align_self": null,
            "border": null,
            "bottom": null,
            "display": null,
            "flex": null,
            "flex_flow": null,
            "grid_area": null,
            "grid_auto_columns": null,
            "grid_auto_flow": null,
            "grid_auto_rows": null,
            "grid_column": null,
            "grid_gap": null,
            "grid_row": null,
            "grid_template_areas": null,
            "grid_template_columns": null,
            "grid_template_rows": null,
            "height": null,
            "justify_content": "space-around",
            "justify_items": null,
            "left": null,
            "margin": "10px 0",
            "max_height": null,
            "max_width": null,
            "min_height": null,
            "min_width": null,
            "object_fit": null,
            "object_position": null,
            "order": null,
            "overflow": null,
            "overflow_x": null,
            "overflow_y": null,
            "padding": null,
            "right": null,
            "top": null,
            "visibility": null,
            "width": "100%"
          }
        },
        "751350a99128489bbb557128d45d809c": {
          "model_module": "@jupyter-widgets/controls",
          "model_name": "ButtonModel",
          "model_module_version": "1.5.0",
          "state": {
            "_dom_classes": [],
            "_model_module": "@jupyter-widgets/controls",
            "_model_module_version": "1.5.0",
            "_model_name": "ButtonModel",
            "_view_count": null,
            "_view_module": "@jupyter-widgets/controls",
            "_view_module_version": "1.5.0",
            "_view_name": "ButtonView",
            "button_style": "",
            "description": "a_0",
            "disabled": false,
            "icon": "",
            "layout": "IPY_MODEL_9cd7b8767b154fe2b66aab4b7f7a0e4e",
            "style": "IPY_MODEL_f1ea4a65113d4761bd3f3068420927d4",
            "tooltip": ""
          }
        },
        "16b1ec86c91c4f589d62d736ca033381": {
          "model_module": "@jupyter-widgets/controls",
          "model_name": "ButtonModel",
          "model_module_version": "1.5.0",
          "state": {
            "_dom_classes": [],
            "_model_module": "@jupyter-widgets/controls",
            "_model_module_version": "1.5.0",
            "_model_name": "ButtonModel",
            "_view_count": null,
            "_view_module": "@jupyter-widgets/controls",
            "_view_module_version": "1.5.0",
            "_view_name": "ButtonView",
            "button_style": "",
            "description": "a_1",
            "disabled": false,
            "icon": "",
            "layout": "IPY_MODEL_bbf44399592544259a3cb812f990566d",
            "style": "IPY_MODEL_1c865b5fef8f4b97af7c3a31eb1655ff",
            "tooltip": ""
          }
        },
        "518cd5364092456899382f00ae2d8c8c": {
          "model_module": "@jupyter-widgets/controls",
          "model_name": "ButtonModel",
          "model_module_version": "1.5.0",
          "state": {
            "_dom_classes": [],
            "_model_module": "@jupyter-widgets/controls",
            "_model_module_version": "1.5.0",
            "_model_name": "ButtonModel",
            "_view_count": null,
            "_view_module": "@jupyter-widgets/controls",
            "_view_module_version": "1.5.0",
            "_view_name": "ButtonView",
            "button_style": "",
            "description": "a_2",
            "disabled": false,
            "icon": "",
            "layout": "IPY_MODEL_42a2993f69e34af3bd52c9f93923a7d1",
            "style": "IPY_MODEL_9dcfca3139d246148a0d5f9708820b47",
            "tooltip": ""
          }
        },
        "6a1e94d211e74c4abe870667020b4d1f": {
          "model_module": "@jupyter-widgets/base",
          "model_name": "LayoutModel",
          "model_module_version": "1.2.0",
          "state": {
            "_model_module": "@jupyter-widgets/base",
            "_model_module_version": "1.2.0",
            "_model_name": "LayoutModel",
            "_view_count": null,
            "_view_module": "@jupyter-widgets/base",
            "_view_module_version": "1.2.0",
            "_view_name": "LayoutView",
            "align_content": null,
            "align_items": null,
            "align_self": null,
            "border": null,
            "bottom": null,
            "display": null,
            "flex": null,
            "flex_flow": null,
            "grid_area": null,
            "grid_auto_columns": null,
            "grid_auto_flow": null,
            "grid_auto_rows": null,
            "grid_column": null,
            "grid_gap": null,
            "grid_row": null,
            "grid_template_areas": null,
            "grid_template_columns": null,
            "grid_template_rows": null,
            "height": null,
            "justify_content": "space-around",
            "justify_items": null,
            "left": null,
            "margin": "10px 0",
            "max_height": null,
            "max_width": null,
            "min_height": null,
            "min_width": null,
            "object_fit": null,
            "object_position": null,
            "order": null,
            "overflow": null,
            "overflow_x": null,
            "overflow_y": null,
            "padding": null,
            "right": null,
            "top": null,
            "visibility": null,
            "width": "100%"
          }
        },
        "a2096bc508694258b1caf95a6c197277": {
          "model_module": "@jupyter-widgets/base",
          "model_name": "LayoutModel",
          "model_module_version": "1.2.0",
          "state": {
            "_model_module": "@jupyter-widgets/base",
            "_model_module_version": "1.2.0",
            "_model_name": "LayoutModel",
            "_view_count": null,
            "_view_module": "@jupyter-widgets/base",
            "_view_module_version": "1.2.0",
            "_view_name": "LayoutView",
            "align_content": null,
            "align_items": null,
            "align_self": null,
            "border": "1px solid black",
            "bottom": null,
            "display": null,
            "flex": null,
            "flex_flow": null,
            "grid_area": null,
            "grid_auto_columns": null,
            "grid_auto_flow": null,
            "grid_auto_rows": null,
            "grid_column": null,
            "grid_gap": null,
            "grid_row": null,
            "grid_template_areas": null,
            "grid_template_columns": null,
            "grid_template_rows": null,
            "height": null,
            "justify_content": null,
            "justify_items": null,
            "left": null,
            "margin": null,
            "max_height": null,
            "max_width": null,
            "min_height": null,
            "min_width": null,
            "object_fit": null,
            "object_position": null,
            "order": null,
            "overflow": null,
            "overflow_x": null,
            "overflow_y": null,
            "padding": null,
            "right": null,
            "top": null,
            "visibility": null,
            "width": null
          }
        },
        "9cd7b8767b154fe2b66aab4b7f7a0e4e": {
          "model_module": "@jupyter-widgets/base",
          "model_name": "LayoutModel",
          "model_module_version": "1.2.0",
          "state": {
            "_model_module": "@jupyter-widgets/base",
            "_model_module_version": "1.2.0",
            "_model_name": "LayoutModel",
            "_view_count": null,
            "_view_module": "@jupyter-widgets/base",
            "_view_module_version": "1.2.0",
            "_view_name": "LayoutView",
            "align_content": null,
            "align_items": null,
            "align_self": null,
            "border": null,
            "bottom": null,
            "display": null,
            "flex": null,
            "flex_flow": null,
            "grid_area": null,
            "grid_auto_columns": null,
            "grid_auto_flow": null,
            "grid_auto_rows": null,
            "grid_column": null,
            "grid_gap": null,
            "grid_row": null,
            "grid_template_areas": null,
            "grid_template_columns": null,
            "grid_template_rows": null,
            "height": null,
            "justify_content": null,
            "justify_items": null,
            "left": null,
            "margin": null,
            "max_height": null,
            "max_width": null,
            "min_height": null,
            "min_width": null,
            "object_fit": null,
            "object_position": null,
            "order": null,
            "overflow": null,
            "overflow_x": null,
            "overflow_y": null,
            "padding": null,
            "right": null,
            "top": null,
            "visibility": null,
            "width": null
          }
        },
        "f1ea4a65113d4761bd3f3068420927d4": {
          "model_module": "@jupyter-widgets/controls",
          "model_name": "ButtonStyleModel",
          "model_module_version": "1.5.0",
          "state": {
            "_model_module": "@jupyter-widgets/controls",
            "_model_module_version": "1.5.0",
            "_model_name": "ButtonStyleModel",
            "_view_count": null,
            "_view_module": "@jupyter-widgets/base",
            "_view_module_version": "1.2.0",
            "_view_name": "StyleView",
            "button_color": null,
            "font_weight": ""
          }
        },
        "bbf44399592544259a3cb812f990566d": {
          "model_module": "@jupyter-widgets/base",
          "model_name": "LayoutModel",
          "model_module_version": "1.2.0",
          "state": {
            "_model_module": "@jupyter-widgets/base",
            "_model_module_version": "1.2.0",
            "_model_name": "LayoutModel",
            "_view_count": null,
            "_view_module": "@jupyter-widgets/base",
            "_view_module_version": "1.2.0",
            "_view_name": "LayoutView",
            "align_content": null,
            "align_items": null,
            "align_self": null,
            "border": null,
            "bottom": null,
            "display": null,
            "flex": null,
            "flex_flow": null,
            "grid_area": null,
            "grid_auto_columns": null,
            "grid_auto_flow": null,
            "grid_auto_rows": null,
            "grid_column": null,
            "grid_gap": null,
            "grid_row": null,
            "grid_template_areas": null,
            "grid_template_columns": null,
            "grid_template_rows": null,
            "height": null,
            "justify_content": null,
            "justify_items": null,
            "left": null,
            "margin": null,
            "max_height": null,
            "max_width": null,
            "min_height": null,
            "min_width": null,
            "object_fit": null,
            "object_position": null,
            "order": null,
            "overflow": null,
            "overflow_x": null,
            "overflow_y": null,
            "padding": null,
            "right": null,
            "top": null,
            "visibility": null,
            "width": null
          }
        },
        "1c865b5fef8f4b97af7c3a31eb1655ff": {
          "model_module": "@jupyter-widgets/controls",
          "model_name": "ButtonStyleModel",
          "model_module_version": "1.5.0",
          "state": {
            "_model_module": "@jupyter-widgets/controls",
            "_model_module_version": "1.5.0",
            "_model_name": "ButtonStyleModel",
            "_view_count": null,
            "_view_module": "@jupyter-widgets/base",
            "_view_module_version": "1.2.0",
            "_view_name": "StyleView",
            "button_color": null,
            "font_weight": ""
          }
        },
        "42a2993f69e34af3bd52c9f93923a7d1": {
          "model_module": "@jupyter-widgets/base",
          "model_name": "LayoutModel",
          "model_module_version": "1.2.0",
          "state": {
            "_model_module": "@jupyter-widgets/base",
            "_model_module_version": "1.2.0",
            "_model_name": "LayoutModel",
            "_view_count": null,
            "_view_module": "@jupyter-widgets/base",
            "_view_module_version": "1.2.0",
            "_view_name": "LayoutView",
            "align_content": null,
            "align_items": null,
            "align_self": null,
            "border": null,
            "bottom": null,
            "display": null,
            "flex": null,
            "flex_flow": null,
            "grid_area": null,
            "grid_auto_columns": null,
            "grid_auto_flow": null,
            "grid_auto_rows": null,
            "grid_column": null,
            "grid_gap": null,
            "grid_row": null,
            "grid_template_areas": null,
            "grid_template_columns": null,
            "grid_template_rows": null,
            "height": null,
            "justify_content": null,
            "justify_items": null,
            "left": null,
            "margin": null,
            "max_height": null,
            "max_width": null,
            "min_height": null,
            "min_width": null,
            "object_fit": null,
            "object_position": null,
            "order": null,
            "overflow": null,
            "overflow_x": null,
            "overflow_y": null,
            "padding": null,
            "right": null,
            "top": null,
            "visibility": null,
            "width": null
          }
        },
        "9dcfca3139d246148a0d5f9708820b47": {
          "model_module": "@jupyter-widgets/controls",
          "model_name": "ButtonStyleModel",
          "model_module_version": "1.5.0",
          "state": {
            "_model_module": "@jupyter-widgets/controls",
            "_model_module_version": "1.5.0",
            "_model_name": "ButtonStyleModel",
            "_view_count": null,
            "_view_module": "@jupyter-widgets/base",
            "_view_module_version": "1.2.0",
            "_view_name": "StyleView",
            "button_color": null,
            "font_weight": ""
          }
        }
      }
    }
  },
  "nbformat": 4,
  "nbformat_minor": 0
}
